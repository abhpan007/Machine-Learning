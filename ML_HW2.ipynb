{
  "cells": [
    {
      "cell_type": "markdown",
      "metadata": {
        "id": "view-in-github",
        "colab_type": "text"
      },
      "source": [
        "<a href=\"https://colab.research.google.com/github/abhpan007/Machine-Learning/blob/main/ML_HW2.ipynb\" target=\"_parent\"><img src=\"https://colab.research.google.com/assets/colab-badge.svg\" alt=\"Open In Colab\"/></a>"
      ]
    },
    {
      "cell_type": "markdown",
      "metadata": {
        "id": "eoCxNT8Dnaeg"
      },
      "source": [
        "# MIS 382N: Advanced Machine Learning Assignment 2\n",
        "\n",
        "**Total points**: 80 pts\n",
        "\n",
        "**Due**: 11:59 PM CST, Monday, September 29th, 2025.\n",
        "\n",
        "**Submission**:\n",
        "1. Submit your **Jupyter Notebook via Canvas**, AND\n",
        "2. **Save your Jupyter Notebook to a PDF, and submit the PDF via Gradescope**.\n",
        "\n",
        "You may work in groups of two if you wish. Only one student per team needs to submit the assignment on Canvas and Gradescope. But be sure to include the name and UT EID for both students.\n",
        "\n",
        "Homework groups will be created and managed through Canvas and Gradescope, so please do not arbitrarily change your homework group. If you do change, let the TAs know.\n",
        "\n",
        "For questions involving mathematical derivations, you can write your answer on paper and then upload an image or directly write in markdown in the notebook. Also, please make sure your code runs and the graphics (and anything else) are displayed in your notebook before submitting. (%matplotlib inline)"
      ]
    },
    {
      "cell_type": "markdown",
      "metadata": {
        "id": "3Q7oUnKCqpms"
      },
      "source": [
        "**Name(s) and EID(s)**:\n",
        "\n",
        "-------------------------"
      ]
    },
    {
      "cell_type": "markdown",
      "metadata": {
        "id": "isRPMCvdtplc"
      },
      "source": [
        "## Maria Laura Peña (mlp4225)\n",
        "## Abhigyan Pandya (ap57479)"
      ]
    },
    {
      "cell_type": "markdown",
      "metadata": {
        "id": "mw23xiTndyoR"
      },
      "source": [
        "Bookmarks:\n",
        "\n",
        "Q1. <a href=#Q1>Stochastic Gradient Descent</a>\n",
        "\n",
        "Q2. <a href=#Q2>Bias and Variance</a>\n",
        "\n",
        "Q3. <a href=#Q3>Gradient Descent Learning Rate</a>\n",
        "\n",
        "Q4. <a href=#Q4>Stochastic Gradient Descent</a>\n",
        "\n",
        "Q5. <a href=#Q5>Rideshare Price Prediction: Ridge Regression \\& MLP</a>\n",
        "\n",
        "-------------------------"
      ]
    },
    {
      "cell_type": "markdown",
      "metadata": {
        "id": "0a5dk22xq7qU"
      },
      "source": [
        "**Q1. Stochastic Gradient Descent (10 pts)** <a name='Q1' />\n",
        "\n",
        "**Part 1**. (5 pts)\n",
        "\n",
        "Read this [blog](https://medium.com/optimization-algorithms-for-deep-neural-networks/gradient-descent-with-momentum-dce805cd8de8) on medium and describe in your own words how momentum leads to a faster convergence of the loss function."
      ]
    },
    {
      "cell_type": "markdown",
      "metadata": {
        "id": "QyYDaUF9tMV6"
      },
      "source": [
        "**Answer**: Momentum leads to faster convergence because it builds on the average of past gradients rather than just the current one. This dampens oscillations in directions where the gradient changes sign and amplifies movement in directions where the gradient is consistent. As a result, the updates follow a smoother, more direct path to the local minimum - like a ball rolling downhill with inertia, rather than zig-zagging step by step.\n",
        "\n"
      ]
    },
    {
      "cell_type": "markdown",
      "metadata": {
        "id": "M-eIAZEQtSGX"
      },
      "source": [
        "**Part 2**. (5 pts)\n",
        "\n",
        "Read this [article](https://www.lunartech.ai/blog/gradient-descent-vs-mini-batch-gradient-descent-vs-stochastic-gradient-descent-an-expert-comparison) and explain in your own words the advantages of Mini-batch Stochastic Gradient Descent (w.r.t Gradient Descent or pure Stochastic Gradient Descent?)."
      ]
    },
    {
      "cell_type": "markdown",
      "metadata": {
        "id": "D1snCZEDtXzs"
      },
      "source": [
        "**Answer**: Mini-batch SGD combines the stability of full-batch Gradient Descent with the efficiency of Stochastic Gradient Descent. Instead of updating on every single example (which is noisy) or waiting for the full dataset (which is slow), it updates weights using small batches. This reduces variance in updates compared to pure SGD, leading to smoother convergence, while also being much faster and more memory-efficient than full-batch methods. It also takes advantage of modern hardware (like GPUs) that are optimized for parallel matrix operations on batches."
      ]
    },
    {
      "cell_type": "markdown",
      "metadata": {
        "id": "V8HVhqklrC5Z"
      },
      "source": [
        "**Q2. Bias and Variance (15 pts)** <a name='Q2' />\n",
        "\n",
        "**Part 1**. (6 pts)\n",
        "\n",
        "Describe how increasing the amount of training data affects the bias and the variance components of a model's prediction error. In your answer, explain why these two components respond differently to larger datasets and discuss how this relationship influences overall generalization performance."
      ]
    },
    {
      "cell_type": "markdown",
      "metadata": {
        "id": "d1ioNtUMvZew"
      },
      "source": [
        "**Answer**:\n",
        "\n",
        "Increasing the amount of training data primarily reduces the variance component of prediction error, because the model becomes less sensitive to random fluctuations in the sample and overfits less. Bias, on the other hand, is largely determined by the model’s structure and assumptions, so it doesn’t automatically decrease with more data unless the model is flexible enough to capture the true relationship. Because variance drops while bias remains stable, overall generalization performance improves with larger datasets (without needing to sacrifice one or tge other)."
      ]
    },
    {
      "cell_type": "markdown",
      "metadata": {
        "id": "0LvyCsLivUOZ"
      },
      "source": [
        "\n",
        "**Part 2**. (9 pts)\n",
        "\n",
        "Suppose you plot training error and validation error as functions of the training-set size.\n",
        "\n",
        "a. Describe the characteristic patterns you would expect to see if the model is overfitting.\n",
        "\n",
        "b. How would these patterns change if the model is underfitting?\n",
        "\n",
        "c. Explain how you would use these observations to decide whether collecting more data, adjusting model complexity, or regularizing the model is the most appropriate next step."
      ]
    },
    {
      "cell_type": "markdown",
      "metadata": {
        "id": "SVidm7swvdgJ"
      },
      "source": [
        "**Answer**:\n",
        "\n",
        "a. In overfitting, training error stays very low, while validation error remains much higher, creating a large gap between the two curves. As the training set grows, training error may rise slightly, and validation error may drop slightly, but the gap persists.\n",
        "\n",
        "b. In underfitting, both training and validation errors remain high, and the gap between them is small. Adding more data does not reduce either error significantly, since the model is too simple to capture the underlying relationship.\n",
        "\n",
        "c. If the model is overfitting, collecting more data can help reduce variance, and adjusting model complexity or adding regularization can further close the gap. If the model is underfitting, increasing model complexity is the appropriate next step, since more data will not really reduce bias."
      ]
    },
    {
      "cell_type": "markdown",
      "metadata": {
        "id": "3-Dnv_yoY2-6"
      },
      "source": [
        "**Q3. Gradient Descent Learning Rate (10 pts)** <a name='Q3' />\n",
        "\n",
        "In the context of (stochastic) gradient descent, explain the role of the learning rate and its impact on optimization.\n",
        "\n",
        "**Part 1**. (5 pts)\n",
        "\n",
        "What happens when the learning rate is set too high versus too low, and how does this affect convergence?"
      ]
    },
    {
      "cell_type": "markdown",
      "metadata": {
        "id": "sGzkosHWZWhq"
      },
      "source": [
        "**Answer**:\n",
        "\n",
        "The learning rate controls the size of parameter updates in gradient descent. If it is too high, the model overshoots the minimum, causing oscillations or divergence. If it is too low, convergence is very slow and the model may get stuck in flat regions of the loss surface."
      ]
    },
    {
      "cell_type": "markdown",
      "metadata": {
        "id": "f0MRru-MZj8P"
      },
      "source": [
        "**Part 2**. (5 pts)\n",
        "\n",
        "Why might one use a learning rate schedule or an adaptive learning rate method, and what are some common strategies?"
      ]
    },
    {
      "cell_type": "markdown",
      "metadata": {
        "id": "0t930vFLZlhI"
      },
      "source": [
        "**Answer**:\n",
        "\n",
        "Learning rate schedules or adaptive methods are used because the ideal step size changes during training. Schedules (e.g., step decay, exponential decay, cosine annealing) gradually reduce the learning rate to enable both rapid early progress and fine-tuned convergence. Adaptive methods (e.g., AdaGrad, RMSProp, Adam) automatically adjust learning rates per parameter for more stable and efficient optimization."
      ]
    },
    {
      "cell_type": "markdown",
      "metadata": {
        "id": "HPOH2qnyw2NK"
      },
      "source": [
        "**Q4. Stochastic Gradient Descent (15 pts)**<a name='Q4' />\n",
        "\n",
        "**Part 1**. (5 pts)\n",
        "\n",
        "Suppose we have a model with a 2-dimensional input $[x_1, x_2]^\\top$ and a 1-dimensional output $f(x)$:\n",
        "\n",
        "$$ f(x) = w_0 + w_1e^{x_1} + w_2 \\cos x_2 + w_3x_1^2x_2 $$\n",
        "\n",
        "Derive the stochastic gradient descent (SGD) updates of the 4 coefficients $w_0, w_1, w_2, w_3$ for the mean squared error loss: $L = \\frac{1}{2}(f(x) - y)^2$ where $y$ is the target.\n",
        "\n",
        "Write the SGD updates based on a single data point $([x_1, x_2]^\\top, y)$ in the following form:\n",
        "\n",
        "\\begin{equation}\n",
        "w_0 ← w_0 - \\eta \\frac{\\partial L}{\\partial w_0}\n",
        "\\end{equation}\n",
        "\n",
        "\\begin{equation}\n",
        "w_1 ← w_1 - \\eta \\frac{\\partial L}{\\partial w_1}\n",
        "\\end{equation}\n",
        "\n",
        "\\begin{equation}\n",
        "w_2 \\leftarrow w_2 - \\eta \\frac{\\partial L}{\\partial w_2}\n",
        "\\end{equation}\n",
        "\n",
        "\\begin{equation}\n",
        "w_3 \\leftarrow w_3 - \\eta \\frac{\\partial L}{\\partial w_3}\n",
        "\\end{equation}\n",
        "\n",
        "$\\eta$ is the learning rate and the partial derivatives (gradients) are for you to fill in.\n"
      ]
    },
    {
      "cell_type": "markdown",
      "metadata": {
        "id": "x4gbNZk-xlU-"
      },
      "source": [
        "**Answer**:\n",
        "d = (f(x)-y)*(f'(x))\n",
        "\n",
        "w0 <- w0 - n(f(x)-y)\n",
        "\n",
        "w1 <- w1 - n(f(x)-y) e^x1\n",
        "\n",
        "w2 <- w2 - n(f(x)-y) cos(x2)\n",
        "\n",
        "w3 <- w3 - n(f(x)-y) x1^2(x2)\n",
        "\n",
        "\n"
      ]
    },
    {
      "cell_type": "markdown",
      "metadata": {
        "id": "fHTsLKR_5VDO"
      },
      "source": [
        "**Part 2**. (10 pts)\n",
        "\n",
        "Code an SGD solution for the model in Part 1. The loss function is mean squared error **with L2 regularization**.\n",
        "\n",
        "(a) (5 pts) Complete the functions ```get_features``` and ```fit``` in the Regression class template provided below. ```get_features``` transforms 2D inputs to 4D features. ```fit``` learns the coefficients on the provided dataset and optionally plots the learning curves.\n"
      ]
    },
    {
      "cell_type": "code",
      "execution_count": null,
      "metadata": {
        "id": "mJpBoFIU_ko_"
      },
      "outputs": [],
      "source": [
        "%matplotlib inline\n",
        "import random\n",
        "import numpy as np\n",
        "import matplotlib.pyplot as plt\n",
        "import pandas as pd\n",
        "import itertools\n",
        "import random\n",
        "random.seed(42)\n",
        "np.random.seed(42)\n"
      ]
    },
    {
      "cell_type": "code",
      "execution_count": null,
      "metadata": {
        "id": "hSlW6A9Nw1VD"
      },
      "outputs": [],
      "source": [
        "class Regression:\n",
        "\n",
        "    def __init__(self, learning_rate, regularization, n_epoch):\n",
        "        self.learning_rate = learning_rate\n",
        "        self.n_epoch = n_epoch\n",
        "        self.regularization = regularization\n",
        "        self.coef = np.zeros(4)\n",
        "\n",
        "    def fit(self, X, y, plot=False):\n",
        "        \"\"\"\n",
        "        Learn the coefficients on the dataset (X, y).\n",
        "        Args:\n",
        "            X: a 2D numpy array containint the input data, shape (n_samples, 2)\n",
        "            y: a 1D numpy array containing the labels of the input data, shape (n_samples,)\n",
        "            plot: a boolean indicating whether to plot the MSE and coefficients over epochs (default: False)\n",
        "        Returns:\n",
        "            None\n",
        "        \"\"\"\n",
        "        # Do feature transformation\n",
        "        X = self.get_features(X)\n",
        "        mse = []\n",
        "        coefs = []\n",
        "        for epoch in range(self.n_epoch):\n",
        "            for i in range(X.shape[0]):\n",
        "                # Get the i'th data point\n",
        "                X_i = X[i,:]\n",
        "                y_i = y[i]\n",
        "\n",
        "                # Predict and compute gradients\n",
        "                ### START CODE ###\n",
        "                y_hat = self.linear_predict(X_i)\n",
        "                error = y_hat - y_i\n",
        "\n",
        "                ### data term gradients\n",
        "                grad = error * X_i\n",
        "\n",
        "                ### L2 regularization\n",
        "                reg_grad = self.regularization * np.array([0.0, self.coef[1], self.coef[2], self.coef[3]])\n",
        "\n",
        "                ### total gradients by weight\n",
        "                grad_w0, grad_w1, grad_w2, grad_w3 = (grad + reg_grad)\n",
        "                ### END CODE ###\n",
        "\n",
        "                # Update weights\n",
        "                ### START CODE ###\n",
        "                self.coef[0] -= self.learning_rate * grad_w0\n",
        "                self.coef[1] -= self.learning_rate * grad_w1\n",
        "                self.coef[2] -= self.learning_rate * grad_w2\n",
        "                self.coef[3] -= self.learning_rate * grad_w3\n",
        "\n",
        "                ### END CODE ###\n",
        "            coefs.append(self.coef.copy())\n",
        "            residuals = y - self.linear_predict(X)\n",
        "            mse.append(np.mean(residuals**2))\n",
        "\n",
        "        self.final_mse = mse[-1]\n",
        "        if plot == True:\n",
        "            plt.figure()\n",
        "            plt.plot(range(self.n_epoch),mse)\n",
        "            plt.xlabel('epoch')\n",
        "            plt.ylabel('MSE')\n",
        "            plt.figure()\n",
        "            coefs = np.array(coefs)\n",
        "            plt.plot(range(self.n_epoch),coefs[:,0],label='w0')\n",
        "            plt.plot(range(self.n_epoch),coefs[:,1],label='w1')\n",
        "            plt.plot(range(self.n_epoch),coefs[:,2],label='w2')\n",
        "            plt.plot(range(self.n_epoch),coefs[:,3],label='w3')\n",
        "            plt.legend()\n",
        "            plt.xlabel('epoch')\n",
        "            plt.ylabel('parameter value')\n",
        "\n",
        "    def get_features(self, X):\n",
        "        \"\"\"\n",
        "        Transform the 2-dimensional input into 4-dimensional features (the basis) for the linear model.\n",
        "        \"\"\"\n",
        "        if X.ndim == 1:\n",
        "            X = X.reshape(1, -1)\n",
        "        n_samples = X.shape[0]\n",
        "        X_new = np.zeros((n_samples, 4))\n",
        "\n",
        "        ## START CODE ##\n",
        "        x1 = X[:,0]\n",
        "        x2 = X[:,1]\n",
        "        X_new[:,0] = 1.0\n",
        "        X_new[:,1] = np.exp(x1)\n",
        "        X_new[:,2] = np.cos(x2)\n",
        "        X_new[:,3] = x1**2 * x2\n",
        "        ## END CODE ##\n",
        "\n",
        "        return X_new\n",
        "\n",
        "    def linear_predict(self, X):\n",
        "        return X @ self.coef"
      ]
    },
    {
      "cell_type": "markdown",
      "metadata": {
        "id": "cYmna1GWGSbP"
      },
      "source": [
        "(b) (5 pts) Use your Regression implementation in Part 2a to train on 'SGD_samples.csv' for 15 epochs. Try combinations of learning rates: [0.0001, 0.001, 0.01, 0.1] and regularization coefficients: [0, 0.1, 1]. For the combination that leads to the lowest final MSE and the combination that leads to the highest final MSE, plot MSE and the model coefficients $w_1, w_2, w_3, w_4$ as a function of epochs (for 15 epochs).\n"
      ]
    },
    {
      "cell_type": "code",
      "execution_count": null,
      "metadata": {
        "colab": {
          "base_uri": "https://localhost:8080/",
          "height": 74
        },
        "id": "kccx9UWnABjf",
        "outputId": "c96561dd-650a-4db6-e744-f4cae9fe3660"
      },
      "outputs": [
        {
          "data": {
            "text/html": [
              "\n",
              "     <input type=\"file\" id=\"files-feea97e9-3360-43b3-b501-72fa3b946a56\" name=\"files[]\" multiple disabled\n",
              "        style=\"border:none\" />\n",
              "     <output id=\"result-feea97e9-3360-43b3-b501-72fa3b946a56\">\n",
              "      Upload widget is only available when the cell has been executed in the\n",
              "      current browser session. Please rerun this cell to enable.\n",
              "      </output>\n",
              "      <script>// Copyright 2017 Google LLC\n",
              "//\n",
              "// Licensed under the Apache License, Version 2.0 (the \"License\");\n",
              "// you may not use this file except in compliance with the License.\n",
              "// You may obtain a copy of the License at\n",
              "//\n",
              "//      http://www.apache.org/licenses/LICENSE-2.0\n",
              "//\n",
              "// Unless required by applicable law or agreed to in writing, software\n",
              "// distributed under the License is distributed on an \"AS IS\" BASIS,\n",
              "// WITHOUT WARRANTIES OR CONDITIONS OF ANY KIND, either express or implied.\n",
              "// See the License for the specific language governing permissions and\n",
              "// limitations under the License.\n",
              "\n",
              "/**\n",
              " * @fileoverview Helpers for google.colab Python module.\n",
              " */\n",
              "(function(scope) {\n",
              "function span(text, styleAttributes = {}) {\n",
              "  const element = document.createElement('span');\n",
              "  element.textContent = text;\n",
              "  for (const key of Object.keys(styleAttributes)) {\n",
              "    element.style[key] = styleAttributes[key];\n",
              "  }\n",
              "  return element;\n",
              "}\n",
              "\n",
              "// Max number of bytes which will be uploaded at a time.\n",
              "const MAX_PAYLOAD_SIZE = 100 * 1024;\n",
              "\n",
              "function _uploadFiles(inputId, outputId) {\n",
              "  const steps = uploadFilesStep(inputId, outputId);\n",
              "  const outputElement = document.getElementById(outputId);\n",
              "  // Cache steps on the outputElement to make it available for the next call\n",
              "  // to uploadFilesContinue from Python.\n",
              "  outputElement.steps = steps;\n",
              "\n",
              "  return _uploadFilesContinue(outputId);\n",
              "}\n",
              "\n",
              "// This is roughly an async generator (not supported in the browser yet),\n",
              "// where there are multiple asynchronous steps and the Python side is going\n",
              "// to poll for completion of each step.\n",
              "// This uses a Promise to block the python side on completion of each step,\n",
              "// then passes the result of the previous step as the input to the next step.\n",
              "function _uploadFilesContinue(outputId) {\n",
              "  const outputElement = document.getElementById(outputId);\n",
              "  const steps = outputElement.steps;\n",
              "\n",
              "  const next = steps.next(outputElement.lastPromiseValue);\n",
              "  return Promise.resolve(next.value.promise).then((value) => {\n",
              "    // Cache the last promise value to make it available to the next\n",
              "    // step of the generator.\n",
              "    outputElement.lastPromiseValue = value;\n",
              "    return next.value.response;\n",
              "  });\n",
              "}\n",
              "\n",
              "/**\n",
              " * Generator function which is called between each async step of the upload\n",
              " * process.\n",
              " * @param {string} inputId Element ID of the input file picker element.\n",
              " * @param {string} outputId Element ID of the output display.\n",
              " * @return {!Iterable<!Object>} Iterable of next steps.\n",
              " */\n",
              "function* uploadFilesStep(inputId, outputId) {\n",
              "  const inputElement = document.getElementById(inputId);\n",
              "  inputElement.disabled = false;\n",
              "\n",
              "  const outputElement = document.getElementById(outputId);\n",
              "  outputElement.innerHTML = '';\n",
              "\n",
              "  const pickedPromise = new Promise((resolve) => {\n",
              "    inputElement.addEventListener('change', (e) => {\n",
              "      resolve(e.target.files);\n",
              "    });\n",
              "  });\n",
              "\n",
              "  const cancel = document.createElement('button');\n",
              "  inputElement.parentElement.appendChild(cancel);\n",
              "  cancel.textContent = 'Cancel upload';\n",
              "  const cancelPromise = new Promise((resolve) => {\n",
              "    cancel.onclick = () => {\n",
              "      resolve(null);\n",
              "    };\n",
              "  });\n",
              "\n",
              "  // Wait for the user to pick the files.\n",
              "  const files = yield {\n",
              "    promise: Promise.race([pickedPromise, cancelPromise]),\n",
              "    response: {\n",
              "      action: 'starting',\n",
              "    }\n",
              "  };\n",
              "\n",
              "  cancel.remove();\n",
              "\n",
              "  // Disable the input element since further picks are not allowed.\n",
              "  inputElement.disabled = true;\n",
              "\n",
              "  if (!files) {\n",
              "    return {\n",
              "      response: {\n",
              "        action: 'complete',\n",
              "      }\n",
              "    };\n",
              "  }\n",
              "\n",
              "  for (const file of files) {\n",
              "    const li = document.createElement('li');\n",
              "    li.append(span(file.name, {fontWeight: 'bold'}));\n",
              "    li.append(span(\n",
              "        `(${file.type || 'n/a'}) - ${file.size} bytes, ` +\n",
              "        `last modified: ${\n",
              "            file.lastModifiedDate ? file.lastModifiedDate.toLocaleDateString() :\n",
              "                                    'n/a'} - `));\n",
              "    const percent = span('0% done');\n",
              "    li.appendChild(percent);\n",
              "\n",
              "    outputElement.appendChild(li);\n",
              "\n",
              "    const fileDataPromise = new Promise((resolve) => {\n",
              "      const reader = new FileReader();\n",
              "      reader.onload = (e) => {\n",
              "        resolve(e.target.result);\n",
              "      };\n",
              "      reader.readAsArrayBuffer(file);\n",
              "    });\n",
              "    // Wait for the data to be ready.\n",
              "    let fileData = yield {\n",
              "      promise: fileDataPromise,\n",
              "      response: {\n",
              "        action: 'continue',\n",
              "      }\n",
              "    };\n",
              "\n",
              "    // Use a chunked sending to avoid message size limits. See b/62115660.\n",
              "    let position = 0;\n",
              "    do {\n",
              "      const length = Math.min(fileData.byteLength - position, MAX_PAYLOAD_SIZE);\n",
              "      const chunk = new Uint8Array(fileData, position, length);\n",
              "      position += length;\n",
              "\n",
              "      const base64 = btoa(String.fromCharCode.apply(null, chunk));\n",
              "      yield {\n",
              "        response: {\n",
              "          action: 'append',\n",
              "          file: file.name,\n",
              "          data: base64,\n",
              "        },\n",
              "      };\n",
              "\n",
              "      let percentDone = fileData.byteLength === 0 ?\n",
              "          100 :\n",
              "          Math.round((position / fileData.byteLength) * 100);\n",
              "      percent.textContent = `${percentDone}% done`;\n",
              "\n",
              "    } while (position < fileData.byteLength);\n",
              "  }\n",
              "\n",
              "  // All done.\n",
              "  yield {\n",
              "    response: {\n",
              "      action: 'complete',\n",
              "    }\n",
              "  };\n",
              "}\n",
              "\n",
              "scope.google = scope.google || {};\n",
              "scope.google.colab = scope.google.colab || {};\n",
              "scope.google.colab._files = {\n",
              "  _uploadFiles,\n",
              "  _uploadFilesContinue,\n",
              "};\n",
              "})(self);\n",
              "</script> "
            ],
            "text/plain": [
              "<IPython.core.display.HTML object>"
            ]
          },
          "metadata": {},
          "output_type": "display_data"
        },
        {
          "name": "stdout",
          "output_type": "stream",
          "text": [
            "Saving SGD_samples.csv to SGD_samples.csv\n"
          ]
        }
      ],
      "source": [
        "# Only use this code block if you are using Google Colab.\n",
        "# If you are using Jupyter Notebook locally, please ignore this code block. You can directly upload the file to your Jupyter Notebook file systems.\n",
        "from google.colab import files\n",
        "\n",
        "## It will prompt you to select a local file. Click on “Choose Files” then select and upload the file.\n",
        "## Wait for the file to be 100% uploaded. You should see the name of the file once Colab has uploaded it.\n",
        "uploaded = files.upload()"
      ]
    },
    {
      "cell_type": "code",
      "execution_count": null,
      "metadata": {
        "id": "wSKkkv2z8aib"
      },
      "outputs": [],
      "source": [
        "data = pd.read_csv('SGD_samples.csv')\n",
        "X = np.array([data['x1'].values, data['x2'].values]).T\n",
        "y = np.array(data['y'].values)"
      ]
    },
    {
      "cell_type": "code",
      "execution_count": null,
      "metadata": {
        "id": "qOMW5jOeHjHG"
      },
      "outputs": [],
      "source": [
        "n_epochs = 15\n",
        "learning_rate_list = [0.0001, 0.001, 0.01, 0.1]\n",
        "regularization_list = [0, 0.1, 1]\n",
        "hparam_combinations = list(itertools.product(learning_rate_list, regularization_list))\n",
        "\n",
        "final_mse_list = []\n",
        "# Iterate through all hyper-parameter combinations and get their corresponding final MSEs\n",
        "### START CODE ###\n",
        "for lr, reg in hparam_combinations:\n",
        "    model = Regression(learning_rate=lr, regularization=reg, n_epoch=n_epochs)\n",
        "    model.fit(X, y, plot=False)\n",
        "    final_mse_list.append((lr, reg, model.final_mse))\n",
        "### END CODE ###"
      ]
    },
    {
      "cell_type": "code",
      "execution_count": null,
      "metadata": {
        "colab": {
          "base_uri": "https://localhost:8080/",
          "height": 919
        },
        "id": "YhpOjISlBB4H",
        "outputId": "fe324af6-4338-45b1-caa5-9e18b85cdcc2"
      },
      "outputs": [
        {
          "name": "stdout",
          "output_type": "stream",
          "text": [
            "Hyper-parameter combination that lead to the lowest final MSE\n",
            "Learning rate: 0.1 Regularization coefficient: 0\n"
          ]
        },
        {
          "data": {
            "image/png": "[encoded data removed]",
            "text/plain": [
              "<Figure size 640x480 with 1 Axes>"
            ]
          },
          "metadata": {},
          "output_type": "display_data"
        },
        {
          "data": {
            "image/png": "[encoded data removed]",
            "text/plain": [
              "<Figure size 640x480 with 1 Axes>"
            ]
          },
          "metadata": {},
          "output_type": "display_data"
        }
      ],
      "source": [
        "# Get the hyper-parameters that lead to the lowest MSE and plot the MSE and model coefficients over epochs\n",
        "### START CODE ###\n",
        "mse_vals = [t[2] for t in final_mse_list]\n",
        "lowest_idx = int(np.argmin(mse_vals))\n",
        "lowest_mse_lr, lowest_mse_reg, _ = final_mse_list[lowest_idx]\n",
        "\n",
        "# Train again with plotting enabled\n",
        "best_model = Regression(learning_rate=lowest_mse_lr, regularization=lowest_mse_reg, n_epoch=n_epochs)\n",
        "best_model.fit(X, y, plot=True)\n",
        "### END CODE ###\n",
        "\n",
        "print(\"Hyper-parameter combination that lead to the lowest final MSE\")\n",
        "print(f\"Learning rate: {lowest_mse_lr} Regularization coefficient: {lowest_mse_reg}\")"
      ]
    },
    {
      "cell_type": "code",
      "execution_count": null,
      "metadata": {
        "colab": {
          "base_uri": "https://localhost:8080/",
          "height": 918
        },
        "id": "mSO-_tZGC7up",
        "outputId": "0f759d35-37a2-4436-ebac-a08dc583d6a9"
      },
      "outputs": [
        {
          "name": "stdout",
          "output_type": "stream",
          "text": [
            "Hyper-parameter combination that lead to the highest final MSE\n",
            "Learning rate: 0.0001 Regularization coefficient: 1\n"
          ]
        },
        {
          "data": {
            "image/png": "[encoded data removed]",
            "text/plain": [
              "<Figure size 640x480 with 1 Axes>"
            ]
          },
          "metadata": {},
          "output_type": "display_data"
        },
        {
          "data": {
            "image/png": "[encoded data removed]",
            "text/plain": [
              "<Figure size 640x480 with 1 Axes>"
            ]
          },
          "metadata": {},
          "output_type": "display_data"
        }
      ],
      "source": [
        "# Get the hyper-parameters that lead to the highest MSE and plot the MSE and model coefficients over epochs\n",
        "### START CODE ###\n",
        "highest_idx = int(np.argmax(mse_vals))\n",
        "highest_mse_lr, highest_mse_reg, _ = final_mse_list[highest_idx]\n",
        "\n",
        "# Train again with plotting enabled\n",
        "worst_model = Regression(learning_rate=highest_mse_lr, regularization=highest_mse_reg, n_epoch=n_epochs)\n",
        "worst_model.fit(X, y, plot=True)\n",
        "### END CODE ###\n",
        "\n",
        "print(\"Hyper-parameter combination that lead to the highest final MSE\")\n",
        "print(f\"Learning rate: {highest_mse_lr} Regularization coefficient: {highest_mse_reg}\")"
      ]
    },
    {
      "cell_type": "markdown",
      "metadata": {
        "id": "JG-Q8LZPkttj"
      },
      "source": [
        "**Q5. Rideshare Price Prediction: Ridge Regression \\& MLP (30 pts)** <a name='Q5' />\n"
      ]
    },
    {
      "cell_type": "markdown",
      "metadata": {
        "id": "TBTi1saGw8ga"
      },
      "source": [
        "In this question, you will work on a rideshare dataset where the task is price prediction. The training set is ```rideshare_train.csv```, which contains trip records from 2018/11/26 to 2018/12/16. The test set is ```rideshare_test.csv```, which contains trip records from 2018/12/16 to 2018/12/18. The target column is ```price``` and the other columns can be used as inputs. You will decide how to preprocess your dataset and train your models. At the end of the notebook, there is a cell for you to evaluate your models. **NOTE: DON'T INCLUDE THE PRICE COLUMN TO THE INPUT OF YOUR MODEL, OTHERWISE YOU GET 0 POINTS**\n",
        "\n",
        "**Part 1.** (10 pts)\n",
        "Preprocess your dataset. This may include training/validation split, feature selection, and feature encoding \\& scaling.\n",
        "\n",
        "**Part 2.** (10 pts)\n",
        "Train a [ridge regression](https://scikit-learn.org/stable/modules/generated/sklearn.linear_model.Ridge.html) model for price prediction. The grading critera is:\n",
        "\n",
        "1. Rationale behind selection of hyper-parameters such as regularization weight (2 pts)\n",
        "2. Performance (8 pts):\n",
        "\n",
        "$$\n",
        "    \\mbox{score} =\n",
        "\\begin{cases}\n",
        "    0  & \\mbox{Test R2 score} < 0.9\\\\\n",
        "    4  & 0.9 \\leq \\mbox{Test R2 score} < 0.92 \\\\\n",
        "    8 & \\mbox{Test R2 score} > 0.92\n",
        "\\end{cases}\n",
        "$$\n",
        "\n",
        "**Part 3.** (10 pts)\n",
        "Train a multi-layer perceptron (MLP) model for price prediction. The MLP can have one or two hidden layers. Comment on your (final) choice of model size and training method. Feel free to use any framework (sklearn, torch, etc.) to implement your MLP.\n",
        "\n",
        "The grading critera is:\n",
        "\n",
        "1. Rationale behind model size selection; selection of hyperparameter(s), etc. (2 pts)\n",
        "2. Performance (8 pts):\n",
        "\n",
        "$$\n",
        "    \\mbox{score} =\n",
        "\\begin{cases}\n",
        "    0  & \\mbox{Test R2 score} < 0.92\\\\\n",
        "    4  & 0.92 \\leq \\mbox{Test R2 score} < 0.95 \\\\\n",
        "    8 & \\mbox{Test R2 score} > 0.95\n",
        "\\end{cases}\n",
        "$$"
      ]
    },
    {
      "cell_type": "code",
      "execution_count": null,
      "metadata": {
        "id": "44EPu8E4wcYF"
      },
      "outputs": [],
      "source": [
        "# Import any package you need here\n",
        "import pandas as pd\n",
        "import numpy as np\n",
        "from sklearn.linear_model import RidgeCV\n",
        "from sklearn.linear_model import Ridge\n",
        "from sklearn.feature_selection import RFE\n",
        "from sklearn.metrics import mean_squared_error, mean_absolute_error, r2_score"
      ]
    },
    {
      "cell_type": "code",
      "execution_count": null,
      "metadata": {
        "colab": {
          "base_uri": "https://localhost:8080/",
          "height": 350
        },
        "id": "2RDgF9JbJRwl",
        "outputId": "26a17119-7fe5-4a27-d693-6da27d04fcfd"
      },
      "outputs": [
        {
          "data": {
            "text/html": [
              "\n",
              "     <input type=\"file\" id=\"files-eb9b9715-fdf2-4b6a-af6b-393c8eb7e7ef\" name=\"files[]\" multiple disabled\n",
              "        style=\"border:none\" />\n",
              "     <output id=\"result-eb9b9715-fdf2-4b6a-af6b-393c8eb7e7ef\">\n",
              "      Upload widget is only available when the cell has been executed in the\n",
              "      current browser session. Please rerun this cell to enable.\n",
              "      </output>\n",
              "      <script>// Copyright 2017 Google LLC\n",
              "//\n",
              "// Licensed under the Apache License, Version 2.0 (the \"License\");\n",
              "// you may not use this file except in compliance with the License.\n",
              "// You may obtain a copy of the License at\n",
              "//\n",
              "//      http://www.apache.org/licenses/LICENSE-2.0\n",
              "//\n",
              "// Unless required by applicable law or agreed to in writing, software\n",
              "// distributed under the License is distributed on an \"AS IS\" BASIS,\n",
              "// WITHOUT WARRANTIES OR CONDITIONS OF ANY KIND, either express or implied.\n",
              "// See the License for the specific language governing permissions and\n",
              "// limitations under the License.\n",
              "\n",
              "/**\n",
              " * @fileoverview Helpers for google.colab Python module.\n",
              " */\n",
              "(function(scope) {\n",
              "function span(text, styleAttributes = {}) {\n",
              "  const element = document.createElement('span');\n",
              "  element.textContent = text;\n",
              "  for (const key of Object.keys(styleAttributes)) {\n",
              "    element.style[key] = styleAttributes[key];\n",
              "  }\n",
              "  return element;\n",
              "}\n",
              "\n",
              "// Max number of bytes which will be uploaded at a time.\n",
              "const MAX_PAYLOAD_SIZE = 100 * 1024;\n",
              "\n",
              "function _uploadFiles(inputId, outputId) {\n",
              "  const steps = uploadFilesStep(inputId, outputId);\n",
              "  const outputElement = document.getElementById(outputId);\n",
              "  // Cache steps on the outputElement to make it available for the next call\n",
              "  // to uploadFilesContinue from Python.\n",
              "  outputElement.steps = steps;\n",
              "\n",
              "  return _uploadFilesContinue(outputId);\n",
              "}\n",
              "\n",
              "// This is roughly an async generator (not supported in the browser yet),\n",
              "// where there are multiple asynchronous steps and the Python side is going\n",
              "// to poll for completion of each step.\n",
              "// This uses a Promise to block the python side on completion of each step,\n",
              "// then passes the result of the previous step as the input to the next step.\n",
              "function _uploadFilesContinue(outputId) {\n",
              "  const outputElement = document.getElementById(outputId);\n",
              "  const steps = outputElement.steps;\n",
              "\n",
              "  const next = steps.next(outputElement.lastPromiseValue);\n",
              "  return Promise.resolve(next.value.promise).then((value) => {\n",
              "    // Cache the last promise value to make it available to the next\n",
              "    // step of the generator.\n",
              "    outputElement.lastPromiseValue = value;\n",
              "    return next.value.response;\n",
              "  });\n",
              "}\n",
              "\n",
              "/**\n",
              " * Generator function which is called between each async step of the upload\n",
              " * process.\n",
              " * @param {string} inputId Element ID of the input file picker element.\n",
              " * @param {string} outputId Element ID of the output display.\n",
              " * @return {!Iterable<!Object>} Iterable of next steps.\n",
              " */\n",
              "function* uploadFilesStep(inputId, outputId) {\n",
              "  const inputElement = document.getElementById(inputId);\n",
              "  inputElement.disabled = false;\n",
              "\n",
              "  const outputElement = document.getElementById(outputId);\n",
              "  outputElement.innerHTML = '';\n",
              "\n",
              "  const pickedPromise = new Promise((resolve) => {\n",
              "    inputElement.addEventListener('change', (e) => {\n",
              "      resolve(e.target.files);\n",
              "    });\n",
              "  });\n",
              "\n",
              "  const cancel = document.createElement('button');\n",
              "  inputElement.parentElement.appendChild(cancel);\n",
              "  cancel.textContent = 'Cancel upload';\n",
              "  const cancelPromise = new Promise((resolve) => {\n",
              "    cancel.onclick = () => {\n",
              "      resolve(null);\n",
              "    };\n",
              "  });\n",
              "\n",
              "  // Wait for the user to pick the files.\n",
              "  const files = yield {\n",
              "    promise: Promise.race([pickedPromise, cancelPromise]),\n",
              "    response: {\n",
              "      action: 'starting',\n",
              "    }\n",
              "  };\n",
              "\n",
              "  cancel.remove();\n",
              "\n",
              "  // Disable the input element since further picks are not allowed.\n",
              "  inputElement.disabled = true;\n",
              "\n",
              "  if (!files) {\n",
              "    return {\n",
              "      response: {\n",
              "        action: 'complete',\n",
              "      }\n",
              "    };\n",
              "  }\n",
              "\n",
              "  for (const file of files) {\n",
              "    const li = document.createElement('li');\n",
              "    li.append(span(file.name, {fontWeight: 'bold'}));\n",
              "    li.append(span(\n",
              "        `(${file.type || 'n/a'}) - ${file.size} bytes, ` +\n",
              "        `last modified: ${\n",
              "            file.lastModifiedDate ? file.lastModifiedDate.toLocaleDateString() :\n",
              "                                    'n/a'} - `));\n",
              "    const percent = span('0% done');\n",
              "    li.appendChild(percent);\n",
              "\n",
              "    outputElement.appendChild(li);\n",
              "\n",
              "    const fileDataPromise = new Promise((resolve) => {\n",
              "      const reader = new FileReader();\n",
              "      reader.onload = (e) => {\n",
              "        resolve(e.target.result);\n",
              "      };\n",
              "      reader.readAsArrayBuffer(file);\n",
              "    });\n",
              "    // Wait for the data to be ready.\n",
              "    let fileData = yield {\n",
              "      promise: fileDataPromise,\n",
              "      response: {\n",
              "        action: 'continue',\n",
              "      }\n",
              "    };\n",
              "\n",
              "    // Use a chunked sending to avoid message size limits. See b/62115660.\n",
              "    let position = 0;\n",
              "    do {\n",
              "      const length = Math.min(fileData.byteLength - position, MAX_PAYLOAD_SIZE);\n",
              "      const chunk = new Uint8Array(fileData, position, length);\n",
              "      position += length;\n",
              "\n",
              "      const base64 = btoa(String.fromCharCode.apply(null, chunk));\n",
              "      yield {\n",
              "        response: {\n",
              "          action: 'append',\n",
              "          file: file.name,\n",
              "          data: base64,\n",
              "        },\n",
              "      };\n",
              "\n",
              "      let percentDone = fileData.byteLength === 0 ?\n",
              "          100 :\n",
              "          Math.round((position / fileData.byteLength) * 100);\n",
              "      percent.textContent = `${percentDone}% done`;\n",
              "\n",
              "    } while (position < fileData.byteLength);\n",
              "  }\n",
              "\n",
              "  // All done.\n",
              "  yield {\n",
              "    response: {\n",
              "      action: 'complete',\n",
              "    }\n",
              "  };\n",
              "}\n",
              "\n",
              "scope.google = scope.google || {};\n",
              "scope.google.colab = scope.google.colab || {};\n",
              "scope.google.colab._files = {\n",
              "  _uploadFiles,\n",
              "  _uploadFilesContinue,\n",
              "};\n",
              "})(self);\n",
              "</script> "
            ],
            "text/plain": [
              "<IPython.core.display.HTML object>"
            ]
          },
          "metadata": {},
          "output_type": "display_data"
        },
        {
          "ename": "KeyboardInterrupt",
          "evalue": "",
          "output_type": "error",
          "traceback": [
            "\u001b[0;31m---------------------------------------------------------------------------\u001b[0m",
            "\u001b[0;31mKeyboardInterrupt\u001b[0m                         Traceback (most recent call last)",
            "\u001b[0;32m/tmp/ipython-input-2107038994.py\u001b[0m in \u001b[0;36m<cell line: 0>\u001b[0;34m()\u001b[0m\n\u001b[1;32m      5\u001b[0m \u001b[0;31m## It will prompt you to select a local file. Click on “Choose Files” then select and upload the file.\u001b[0m\u001b[0;34m\u001b[0m\u001b[0;34m\u001b[0m\u001b[0m\n\u001b[1;32m      6\u001b[0m \u001b[0;31m## Wait for the file to be 100% uploaded. You should see the name of the file once Colab has uploaded it.\u001b[0m\u001b[0;34m\u001b[0m\u001b[0;34m\u001b[0m\u001b[0m\n\u001b[0;32m----> 7\u001b[0;31m \u001b[0muploaded\u001b[0m \u001b[0;34m=\u001b[0m \u001b[0mfiles\u001b[0m\u001b[0;34m.\u001b[0m\u001b[0mupload\u001b[0m\u001b[0;34m(\u001b[0m\u001b[0;34m)\u001b[0m\u001b[0;34m\u001b[0m\u001b[0;34m\u001b[0m\u001b[0m\n\u001b[0m",
            "\u001b[0;32m/usr/local/lib/python3.12/dist-packages/google/colab/files.py\u001b[0m in \u001b[0;36mupload\u001b[0;34m(target_dir)\u001b[0m\n\u001b[1;32m     70\u001b[0m   \"\"\"\n\u001b[1;32m     71\u001b[0m \u001b[0;34m\u001b[0m\u001b[0m\n\u001b[0;32m---> 72\u001b[0;31m   \u001b[0muploaded_files\u001b[0m \u001b[0;34m=\u001b[0m \u001b[0m_upload_files\u001b[0m\u001b[0;34m(\u001b[0m\u001b[0mmultiple\u001b[0m\u001b[0;34m=\u001b[0m\u001b[0;32mTrue\u001b[0m\u001b[0;34m)\u001b[0m\u001b[0;34m\u001b[0m\u001b[0;34m\u001b[0m\u001b[0m\n\u001b[0m\u001b[1;32m     73\u001b[0m   \u001b[0;31m# Mapping from original filename to filename as saved locally.\u001b[0m\u001b[0;34m\u001b[0m\u001b[0;34m\u001b[0m\u001b[0m\n\u001b[1;32m     74\u001b[0m   \u001b[0mlocal_filenames\u001b[0m \u001b[0;34m=\u001b[0m \u001b[0mdict\u001b[0m\u001b[0;34m(\u001b[0m\u001b[0;34m)\u001b[0m\u001b[0;34m\u001b[0m\u001b[0;34m\u001b[0m\u001b[0m\n",
            "\u001b[0;32m/usr/local/lib/python3.12/dist-packages/google/colab/files.py\u001b[0m in \u001b[0;36m_upload_files\u001b[0;34m(multiple)\u001b[0m\n\u001b[1;32m    162\u001b[0m \u001b[0;34m\u001b[0m\u001b[0m\n\u001b[1;32m    163\u001b[0m   \u001b[0;31m# First result is always an indication that the file picker has completed.\u001b[0m\u001b[0;34m\u001b[0m\u001b[0;34m\u001b[0m\u001b[0m\n\u001b[0;32m--> 164\u001b[0;31m   result = _output.eval_js(\n\u001b[0m\u001b[1;32m    165\u001b[0m       'google.colab._files._uploadFiles(\"{input_id}\", \"{output_id}\")'.format(\n\u001b[1;32m    166\u001b[0m           \u001b[0minput_id\u001b[0m\u001b[0;34m=\u001b[0m\u001b[0minput_id\u001b[0m\u001b[0;34m,\u001b[0m \u001b[0moutput_id\u001b[0m\u001b[0;34m=\u001b[0m\u001b[0moutput_id\u001b[0m\u001b[0;34m\u001b[0m\u001b[0;34m\u001b[0m\u001b[0m\n",
            "\u001b[0;32m/usr/local/lib/python3.12/dist-packages/google/colab/output/_js.py\u001b[0m in \u001b[0;36meval_js\u001b[0;34m(script, ignore_result, timeout_sec)\u001b[0m\n\u001b[1;32m     38\u001b[0m   \u001b[0;32mif\u001b[0m \u001b[0mignore_result\u001b[0m\u001b[0;34m:\u001b[0m\u001b[0;34m\u001b[0m\u001b[0;34m\u001b[0m\u001b[0m\n\u001b[1;32m     39\u001b[0m     \u001b[0;32mreturn\u001b[0m\u001b[0;34m\u001b[0m\u001b[0;34m\u001b[0m\u001b[0m\n\u001b[0;32m---> 40\u001b[0;31m   \u001b[0;32mreturn\u001b[0m \u001b[0m_message\u001b[0m\u001b[0;34m.\u001b[0m\u001b[0mread_reply_from_input\u001b[0m\u001b[0;34m(\u001b[0m\u001b[0mrequest_id\u001b[0m\u001b[0;34m,\u001b[0m \u001b[0mtimeout_sec\u001b[0m\u001b[0;34m)\u001b[0m\u001b[0;34m\u001b[0m\u001b[0;34m\u001b[0m\u001b[0m\n\u001b[0m\u001b[1;32m     41\u001b[0m \u001b[0;34m\u001b[0m\u001b[0m\n\u001b[1;32m     42\u001b[0m \u001b[0;34m\u001b[0m\u001b[0m\n",
            "\u001b[0;32m/usr/local/lib/python3.12/dist-packages/google/colab/_message.py\u001b[0m in \u001b[0;36mread_reply_from_input\u001b[0;34m(message_id, timeout_sec)\u001b[0m\n\u001b[1;32m     94\u001b[0m     \u001b[0mreply\u001b[0m \u001b[0;34m=\u001b[0m \u001b[0m_read_next_input_message\u001b[0m\u001b[0;34m(\u001b[0m\u001b[0;34m)\u001b[0m\u001b[0;34m\u001b[0m\u001b[0;34m\u001b[0m\u001b[0m\n\u001b[1;32m     95\u001b[0m     \u001b[0;32mif\u001b[0m \u001b[0mreply\u001b[0m \u001b[0;34m==\u001b[0m \u001b[0m_NOT_READY\u001b[0m \u001b[0;32mor\u001b[0m \u001b[0;32mnot\u001b[0m \u001b[0misinstance\u001b[0m\u001b[0;34m(\u001b[0m\u001b[0mreply\u001b[0m\u001b[0;34m,\u001b[0m \u001b[0mdict\u001b[0m\u001b[0;34m)\u001b[0m\u001b[0;34m:\u001b[0m\u001b[0;34m\u001b[0m\u001b[0;34m\u001b[0m\u001b[0m\n\u001b[0;32m---> 96\u001b[0;31m       \u001b[0mtime\u001b[0m\u001b[0;34m.\u001b[0m\u001b[0msleep\u001b[0m\u001b[0;34m(\u001b[0m\u001b[0;36m0.025\u001b[0m\u001b[0;34m)\u001b[0m\u001b[0;34m\u001b[0m\u001b[0;34m\u001b[0m\u001b[0m\n\u001b[0m\u001b[1;32m     97\u001b[0m       \u001b[0;32mcontinue\u001b[0m\u001b[0;34m\u001b[0m\u001b[0;34m\u001b[0m\u001b[0m\n\u001b[1;32m     98\u001b[0m     if (\n",
            "\u001b[0;31mKeyboardInterrupt\u001b[0m: "
          ]
        }
      ],
      "source": [
        "# Only use this code block if you are using Google Colab.\n",
        "# If you are using Jupyter Notebook locally, please ignore this code block. You can directly upload the file to your Jupyter Notebook file systems.\n",
        "from google.colab import files\n",
        "\n",
        "## It will prompt you to select a local file. Click on “Choose Files” then select and upload the file.\n",
        "## Wait for the file to be 100% uploaded. You should see the name of the file once Colab has uploaded it.\n",
        "uploaded = files.upload()"
      ]
    },
    {
      "cell_type": "code",
      "execution_count": null,
      "metadata": {
        "id": "79CrZq4xlbS2"
      },
      "outputs": [],
      "source": [
        "df = pd.read_csv('rideshare_train.csv')"
      ]
    },
    {
      "cell_type": "code",
      "execution_count": null,
      "metadata": {
        "colab": {
          "base_uri": "https://localhost:8080/"
        },
        "id": "Ca0GxcLKwami",
        "outputId": "669ca3a7-0c8c-45dd-d4da-47f2f28d77f2"
      },
      "outputs": [
        {
          "name": "stdout",
          "output_type": "stream",
          "text": [
            "<class 'pandas.core.frame.DataFrame'>\n",
            "RangeIndex: 42500 entries, 0 to 42499\n",
            "Data columns (total 57 columns):\n",
            " #   Column                       Non-Null Count  Dtype  \n",
            "---  ------                       --------------  -----  \n",
            " 0   id                           42500 non-null  object \n",
            " 1   timestamp                    42500 non-null  object \n",
            " 2   hour                         42500 non-null  int64  \n",
            " 3   day                          42500 non-null  int64  \n",
            " 4   month                        42500 non-null  int64  \n",
            " 5   datetime                     42500 non-null  object \n",
            " 6   timezone                     42500 non-null  object \n",
            " 7   source                       42500 non-null  object \n",
            " 8   destination                  42500 non-null  object \n",
            " 9   cab_type                     42500 non-null  object \n",
            " 10  product_id                   42500 non-null  object \n",
            " 11  name                         42500 non-null  object \n",
            " 12  price                        42500 non-null  float64\n",
            " 13  distance                     42500 non-null  float64\n",
            " 14  surge_multiplier             42500 non-null  float64\n",
            " 15  latitude                     42500 non-null  float64\n",
            " 16  longitude                    42500 non-null  float64\n",
            " 17  temperature                  42500 non-null  float64\n",
            " 18  apparentTemperature          42500 non-null  float64\n",
            " 19  short_summary                42500 non-null  object \n",
            " 20  long_summary                 42500 non-null  object \n",
            " 21  precipIntensity              42500 non-null  float64\n",
            " 22  precipProbability            42500 non-null  float64\n",
            " 23  humidity                     42500 non-null  float64\n",
            " 24  windSpeed                    42500 non-null  float64\n",
            " 25  windGust                     42500 non-null  float64\n",
            " 26  windGustTime                 42500 non-null  int64  \n",
            " 27  visibility                   42500 non-null  float64\n",
            " 28  temperatureHigh              42500 non-null  float64\n",
            " 29  temperatureHighTime          42500 non-null  int64  \n",
            " 30  temperatureLow               42500 non-null  float64\n",
            " 31  temperatureLowTime           42500 non-null  int64  \n",
            " 32  apparentTemperatureHigh      42500 non-null  float64\n",
            " 33  apparentTemperatureHighTime  42500 non-null  int64  \n",
            " 34  apparentTemperatureLow       42500 non-null  float64\n",
            " 35  apparentTemperatureLowTime   42500 non-null  int64  \n",
            " 36  icon                         42500 non-null  object \n",
            " 37  dewPoint                     42500 non-null  float64\n",
            " 38  pressure                     42500 non-null  float64\n",
            " 39  windBearing                  42500 non-null  int64  \n",
            " 40  cloudCover                   42500 non-null  float64\n",
            " 41  uvIndex                      42500 non-null  int64  \n",
            " 42  visibility.1                 42500 non-null  float64\n",
            " 43  ozone                        42500 non-null  float64\n",
            " 44  sunriseTime                  42500 non-null  int64  \n",
            " 45  sunsetTime                   42500 non-null  int64  \n",
            " 46  moonPhase                    42500 non-null  float64\n",
            " 47  precipIntensityMax           42500 non-null  float64\n",
            " 48  uvIndexTime                  42500 non-null  int64  \n",
            " 49  temperatureMin               42500 non-null  float64\n",
            " 50  temperatureMinTime           42500 non-null  int64  \n",
            " 51  temperatureMax               42500 non-null  float64\n",
            " 52  temperatureMaxTime           42500 non-null  int64  \n",
            " 53  apparentTemperatureMin       42500 non-null  float64\n",
            " 54  apparentTemperatureMinTime   42500 non-null  int64  \n",
            " 55  apparentTemperatureMax       42500 non-null  float64\n",
            " 56  apparentTemperatureMaxTime   42500 non-null  int64  \n",
            "dtypes: float64(28), int64(17), object(12)\n",
            "memory usage: 18.5+ MB\n"
          ]
        }
      ],
      "source": [
        "df.info()"
      ]
    },
    {
      "cell_type": "code",
      "execution_count": null,
      "metadata": {
        "colab": {
          "base_uri": "https://localhost:8080/",
          "height": 499
        },
        "id": "HvBM0I0FwqMx",
        "outputId": "ba4e6a7a-0522-4c2a-dcb4-33fcac772746"
      },
      "outputs": [
        {
          "data": {
            "application/vnd.google.colaboratory.intrinsic+json": {
              "type": "dataframe",
              "variable_name": "df"
            },
            "text/html": [
              "\n",
              "  <div id=\"df-df154a19-ae75-48c7-9537-80cb9fbbf150\" class=\"colab-df-container\">\n",
              "    <div>\n",
              "<style scoped>\n",
              "    .dataframe tbody tr th:only-of-type {\n",
              "        vertical-align: middle;\n",
              "    }\n",
              "\n",
              "    .dataframe tbody tr th {\n",
              "        vertical-align: top;\n",
              "    }\n",
              "\n",
              "    .dataframe thead th {\n",
              "        text-align: right;\n",
              "    }\n",
              "</style>\n",
              "<table border=\"1\" class=\"dataframe\">\n",
              "  <thead>\n",
              "    <tr style=\"text-align: right;\">\n",
              "      <th></th>\n",
              "      <th>id</th>\n",
              "      <th>timestamp</th>\n",
              "      <th>hour</th>\n",
              "      <th>day</th>\n",
              "      <th>month</th>\n",
              "      <th>datetime</th>\n",
              "      <th>timezone</th>\n",
              "      <th>source</th>\n",
              "      <th>destination</th>\n",
              "      <th>cab_type</th>\n",
              "      <th>...</th>\n",
              "      <th>precipIntensityMax</th>\n",
              "      <th>uvIndexTime</th>\n",
              "      <th>temperatureMin</th>\n",
              "      <th>temperatureMinTime</th>\n",
              "      <th>temperatureMax</th>\n",
              "      <th>temperatureMaxTime</th>\n",
              "      <th>apparentTemperatureMin</th>\n",
              "      <th>apparentTemperatureMinTime</th>\n",
              "      <th>apparentTemperatureMax</th>\n",
              "      <th>apparentTemperatureMaxTime</th>\n",
              "    </tr>\n",
              "  </thead>\n",
              "  <tbody>\n",
              "    <tr>\n",
              "      <th>0</th>\n",
              "      <td>d3d168df-a1b6-4de3-b1a1-7d1fb464bd41</td>\n",
              "      <td>2018-11-26 03:40:46.000000000</td>\n",
              "      <td>3</td>\n",
              "      <td>26</td>\n",
              "      <td>11</td>\n",
              "      <td>2018-11-26 03:40:46</td>\n",
              "      <td>America/New_York</td>\n",
              "      <td>Beacon Hill</td>\n",
              "      <td>Boston University</td>\n",
              "      <td>Lyft</td>\n",
              "      <td>...</td>\n",
              "      <td>0.1396</td>\n",
              "      <td>1543161600</td>\n",
              "      <td>40.61</td>\n",
              "      <td>1543122000</td>\n",
              "      <td>46.15</td>\n",
              "      <td>1543154400</td>\n",
              "      <td>38.23</td>\n",
              "      <td>1543136400</td>\n",
              "      <td>43.17</td>\n",
              "      <td>1543186800</td>\n",
              "    </tr>\n",
              "    <tr>\n",
              "      <th>1</th>\n",
              "      <td>f3f35cea-9a3f-4534-930d-da42e7610f77</td>\n",
              "      <td>2018-11-26 03:40:46.000000000</td>\n",
              "      <td>3</td>\n",
              "      <td>26</td>\n",
              "      <td>11</td>\n",
              "      <td>2018-11-26 03:40:46</td>\n",
              "      <td>America/New_York</td>\n",
              "      <td>Beacon Hill</td>\n",
              "      <td>Boston University</td>\n",
              "      <td>Lyft</td>\n",
              "      <td>...</td>\n",
              "      <td>0.1396</td>\n",
              "      <td>1543161600</td>\n",
              "      <td>40.61</td>\n",
              "      <td>1543122000</td>\n",
              "      <td>46.15</td>\n",
              "      <td>1543154400</td>\n",
              "      <td>38.23</td>\n",
              "      <td>1543136400</td>\n",
              "      <td>43.17</td>\n",
              "      <td>1543186800</td>\n",
              "    </tr>\n",
              "    <tr>\n",
              "      <th>2</th>\n",
              "      <td>ed02bff5-5c02-4483-843b-6a571def3fab</td>\n",
              "      <td>2018-11-26 03:40:47.000000000</td>\n",
              "      <td>3</td>\n",
              "      <td>26</td>\n",
              "      <td>11</td>\n",
              "      <td>2018-11-26 03:40:46</td>\n",
              "      <td>America/New_York</td>\n",
              "      <td>Theatre District</td>\n",
              "      <td>Boston University</td>\n",
              "      <td>Uber</td>\n",
              "      <td>...</td>\n",
              "      <td>0.1396</td>\n",
              "      <td>1543161600</td>\n",
              "      <td>40.61</td>\n",
              "      <td>1543122000</td>\n",
              "      <td>46.15</td>\n",
              "      <td>1543154400</td>\n",
              "      <td>38.23</td>\n",
              "      <td>1543136400</td>\n",
              "      <td>43.17</td>\n",
              "      <td>1543186800</td>\n",
              "    </tr>\n",
              "    <tr>\n",
              "      <th>3</th>\n",
              "      <td>c6d8818c-6943-4f8f-9e6c-13e786df5fa4</td>\n",
              "      <td>2018-11-26 03:40:47.000000000</td>\n",
              "      <td>3</td>\n",
              "      <td>26</td>\n",
              "      <td>11</td>\n",
              "      <td>2018-11-26 03:40:47</td>\n",
              "      <td>America/New_York</td>\n",
              "      <td>Northeastern University</td>\n",
              "      <td>Theatre District</td>\n",
              "      <td>Uber</td>\n",
              "      <td>...</td>\n",
              "      <td>0.1396</td>\n",
              "      <td>1543161600</td>\n",
              "      <td>40.61</td>\n",
              "      <td>1543122000</td>\n",
              "      <td>46.15</td>\n",
              "      <td>1543154400</td>\n",
              "      <td>38.23</td>\n",
              "      <td>1543136400</td>\n",
              "      <td>43.17</td>\n",
              "      <td>1543186800</td>\n",
              "    </tr>\n",
              "    <tr>\n",
              "      <th>4</th>\n",
              "      <td>90afafea-b369-4195-938b-66409ee62e84</td>\n",
              "      <td>2018-11-26 03:40:47.000000000</td>\n",
              "      <td>3</td>\n",
              "      <td>26</td>\n",
              "      <td>11</td>\n",
              "      <td>2018-11-26 03:40:47</td>\n",
              "      <td>America/New_York</td>\n",
              "      <td>Beacon Hill</td>\n",
              "      <td>North End</td>\n",
              "      <td>Uber</td>\n",
              "      <td>...</td>\n",
              "      <td>0.1396</td>\n",
              "      <td>1543161600</td>\n",
              "      <td>40.61</td>\n",
              "      <td>1543122000</td>\n",
              "      <td>46.15</td>\n",
              "      <td>1543154400</td>\n",
              "      <td>38.23</td>\n",
              "      <td>1543136400</td>\n",
              "      <td>43.17</td>\n",
              "      <td>1543186800</td>\n",
              "    </tr>\n",
              "  </tbody>\n",
              "</table>\n",
              "<p>5 rows × 57 columns</p>\n",
              "</div>\n",
              "    <div class=\"colab-df-buttons\">\n",
              "\n",
              "  <div class=\"colab-df-container\">\n",
              "    <button class=\"colab-df-convert\" onclick=\"convertToInteractive('df-df154a19-ae75-48c7-9537-80cb9fbbf150')\"\n",
              "            title=\"Convert this dataframe to an interactive table.\"\n",
              "            style=\"display:none;\">\n",
              "\n",
              "  <svg xmlns=\"http://www.w3.org/2000/svg\" height=\"24px\" viewBox=\"0 -960 960 960\">\n",
              "    <path d=\"M120-120v-720h720v720H120Zm60-500h600v-160H180v160Zm220 220h160v-160H400v160Zm0 220h160v-160H400v160ZM180-400h160v-160H180v160Zm440 0h160v-160H620v160ZM180-180h160v-160H180v160Zm440 0h160v-160H620v160Z\"/>\n",
              "  </svg>\n",
              "    </button>\n",
              "\n",
              "  <style>\n",
              "    .colab-df-container {\n",
              "      display:flex;\n",
              "      gap: 12px;\n",
              "    }\n",
              "\n",
              "    .colab-df-convert {\n",
              "      background-color: #E8F0FE;\n",
              "      border: none;\n",
              "      border-radius: 50%;\n",
              "      cursor: pointer;\n",
              "      display: none;\n",
              "      fill: #1967D2;\n",
              "      height: 32px;\n",
              "      padding: 0 0 0 0;\n",
              "      width: 32px;\n",
              "    }\n",
              "\n",
              "    .colab-df-convert:hover {\n",
              "      background-color: #E2EBFA;\n",
              "      box-shadow: 0px 1px 2px rgba(60, 64, 67, 0.3), 0px 1px 3px 1px rgba(60, 64, 67, 0.15);\n",
              "      fill: #174EA6;\n",
              "    }\n",
              "\n",
              "    .colab-df-buttons div {\n",
              "      margin-bottom: 4px;\n",
              "    }\n",
              "\n",
              "    [theme=dark] .colab-df-convert {\n",
              "      background-color: #3B4455;\n",
              "      fill: #D2E3FC;\n",
              "    }\n",
              "\n",
              "    [theme=dark] .colab-df-convert:hover {\n",
              "      background-color: #434B5C;\n",
              "      box-shadow: 0px 1px 3px 1px rgba(0, 0, 0, 0.15);\n",
              "      filter: drop-shadow(0px 1px 2px rgba(0, 0, 0, 0.3));\n",
              "      fill: #FFFFFF;\n",
              "    }\n",
              "  </style>\n",
              "\n",
              "    <script>\n",
              "      const buttonEl =\n",
              "        document.querySelector('#df-df154a19-ae75-48c7-9537-80cb9fbbf150 button.colab-df-convert');\n",
              "      buttonEl.style.display =\n",
              "        google.colab.kernel.accessAllowed ? 'block' : 'none';\n",
              "\n",
              "      async function convertToInteractive(key) {\n",
              "        const element = document.querySelector('#df-df154a19-ae75-48c7-9537-80cb9fbbf150');\n",
              "        const dataTable =\n",
              "          await google.colab.kernel.invokeFunction('convertToInteractive',\n",
              "                                                    [key], {});\n",
              "        if (!dataTable) return;\n",
              "\n",
              "        const docLinkHtml = 'Like what you see? Visit the ' +\n",
              "          '<a target=\"_blank\" href=https://colab.research.google.com/notebooks/data_table.ipynb>data table notebook</a>'\n",
              "          + ' to learn more about interactive tables.';\n",
              "        element.innerHTML = '';\n",
              "        dataTable['output_type'] = 'display_data';\n",
              "        await google.colab.output.renderOutput(dataTable, element);\n",
              "        const docLink = document.createElement('div');\n",
              "        docLink.innerHTML = docLinkHtml;\n",
              "        element.appendChild(docLink);\n",
              "      }\n",
              "    </script>\n",
              "  </div>\n",
              "\n",
              "\n",
              "    <div id=\"df-95eddc8d-543f-4047-9910-77d19f910ca1\">\n",
              "      <button class=\"colab-df-quickchart\" onclick=\"quickchart('df-95eddc8d-543f-4047-9910-77d19f910ca1')\"\n",
              "                title=\"Suggest charts\"\n",
              "                style=\"display:none;\">\n",
              "\n",
              "<svg xmlns=\"http://www.w3.org/2000/svg\" height=\"24px\"viewBox=\"0 0 24 24\"\n",
              "     width=\"24px\">\n",
              "    <g>\n",
              "        <path d=\"M19 3H5c-1.1 0-2 .9-2 2v14c0 1.1.9 2 2 2h14c1.1 0 2-.9 2-2V5c0-1.1-.9-2-2-2zM9 17H7v-7h2v7zm4 0h-2V7h2v10zm4 0h-2v-4h2v4z\"/>\n",
              "    </g>\n",
              "</svg>\n",
              "      </button>\n",
              "\n",
              "<style>\n",
              "  .colab-df-quickchart {\n",
              "      --bg-color: #E8F0FE;\n",
              "      --fill-color: #1967D2;\n",
              "      --hover-bg-color: #E2EBFA;\n",
              "      --hover-fill-color: #174EA6;\n",
              "      --disabled-fill-color: #AAA;\n",
              "      --disabled-bg-color: #DDD;\n",
              "  }\n",
              "\n",
              "  [theme=dark] .colab-df-quickchart {\n",
              "      --bg-color: #3B4455;\n",
              "      --fill-color: #D2E3FC;\n",
              "      --hover-bg-color: #434B5C;\n",
              "      --hover-fill-color: #FFFFFF;\n",
              "      --disabled-bg-color: #3B4455;\n",
              "      --disabled-fill-color: #666;\n",
              "  }\n",
              "\n",
              "  .colab-df-quickchart {\n",
              "    background-color: var(--bg-color);\n",
              "    border: none;\n",
              "    border-radius: 50%;\n",
              "    cursor: pointer;\n",
              "    display: none;\n",
              "    fill: var(--fill-color);\n",
              "    height: 32px;\n",
              "    padding: 0;\n",
              "    width: 32px;\n",
              "  }\n",
              "\n",
              "  .colab-df-quickchart:hover {\n",
              "    background-color: var(--hover-bg-color);\n",
              "    box-shadow: 0 1px 2px rgba(60, 64, 67, 0.3), 0 1px 3px 1px rgba(60, 64, 67, 0.15);\n",
              "    fill: var(--button-hover-fill-color);\n",
              "  }\n",
              "\n",
              "  .colab-df-quickchart-complete:disabled,\n",
              "  .colab-df-quickchart-complete:disabled:hover {\n",
              "    background-color: var(--disabled-bg-color);\n",
              "    fill: var(--disabled-fill-color);\n",
              "    box-shadow: none;\n",
              "  }\n",
              "\n",
              "  .colab-df-spinner {\n",
              "    border: 2px solid var(--fill-color);\n",
              "    border-color: transparent;\n",
              "    border-bottom-color: var(--fill-color);\n",
              "    animation:\n",
              "      spin 1s steps(1) infinite;\n",
              "  }\n",
              "\n",
              "  @keyframes spin {\n",
              "    0% {\n",
              "      border-color: transparent;\n",
              "      border-bottom-color: var(--fill-color);\n",
              "      border-left-color: var(--fill-color);\n",
              "    }\n",
              "    20% {\n",
              "      border-color: transparent;\n",
              "      border-left-color: var(--fill-color);\n",
              "      border-top-color: var(--fill-color);\n",
              "    }\n",
              "    30% {\n",
              "      border-color: transparent;\n",
              "      border-left-color: var(--fill-color);\n",
              "      border-top-color: var(--fill-color);\n",
              "      border-right-color: var(--fill-color);\n",
              "    }\n",
              "    40% {\n",
              "      border-color: transparent;\n",
              "      border-right-color: var(--fill-color);\n",
              "      border-top-color: var(--fill-color);\n",
              "    }\n",
              "    60% {\n",
              "      border-color: transparent;\n",
              "      border-right-color: var(--fill-color);\n",
              "    }\n",
              "    80% {\n",
              "      border-color: transparent;\n",
              "      border-right-color: var(--fill-color);\n",
              "      border-bottom-color: var(--fill-color);\n",
              "    }\n",
              "    90% {\n",
              "      border-color: transparent;\n",
              "      border-bottom-color: var(--fill-color);\n",
              "    }\n",
              "  }\n",
              "</style>\n",
              "\n",
              "      <script>\n",
              "        async function quickchart(key) {\n",
              "          const quickchartButtonEl =\n",
              "            document.querySelector('#' + key + ' button');\n",
              "          quickchartButtonEl.disabled = true;  // To prevent multiple clicks.\n",
              "          quickchartButtonEl.classList.add('colab-df-spinner');\n",
              "          try {\n",
              "            const charts = await google.colab.kernel.invokeFunction(\n",
              "                'suggestCharts', [key], {});\n",
              "          } catch (error) {\n",
              "            console.error('Error during call to suggestCharts:', error);\n",
              "          }\n",
              "          quickchartButtonEl.classList.remove('colab-df-spinner');\n",
              "          quickchartButtonEl.classList.add('colab-df-quickchart-complete');\n",
              "        }\n",
              "        (() => {\n",
              "          let quickchartButtonEl =\n",
              "            document.querySelector('#df-95eddc8d-543f-4047-9910-77d19f910ca1 button');\n",
              "          quickchartButtonEl.style.display =\n",
              "            google.colab.kernel.accessAllowed ? 'block' : 'none';\n",
              "        })();\n",
              "      </script>\n",
              "    </div>\n",
              "\n",
              "    </div>\n",
              "  </div>\n"
            ],
            "text/plain": [
              "                                     id                      timestamp  hour  \\\n",
              "0  d3d168df-a1b6-4de3-b1a1-7d1fb464bd41  2018-11-26 03:40:46.000000000     3   \n",
              "1  f3f35cea-9a3f-4534-930d-da42e7610f77  2018-11-26 03:40:46.000000000     3   \n",
              "2  ed02bff5-5c02-4483-843b-6a571def3fab  2018-11-26 03:40:47.000000000     3   \n",
              "3  c6d8818c-6943-4f8f-9e6c-13e786df5fa4  2018-11-26 03:40:47.000000000     3   \n",
              "4  90afafea-b369-4195-938b-66409ee62e84  2018-11-26 03:40:47.000000000     3   \n",
              "\n",
              "   day  month             datetime          timezone                   source  \\\n",
              "0   26     11  2018-11-26 03:40:46  America/New_York              Beacon Hill   \n",
              "1   26     11  2018-11-26 03:40:46  America/New_York              Beacon Hill   \n",
              "2   26     11  2018-11-26 03:40:46  America/New_York         Theatre District   \n",
              "3   26     11  2018-11-26 03:40:47  America/New_York  Northeastern University   \n",
              "4   26     11  2018-11-26 03:40:47  America/New_York              Beacon Hill   \n",
              "\n",
              "         destination cab_type  ... precipIntensityMax uvIndexTime  \\\n",
              "0  Boston University     Lyft  ...             0.1396  1543161600   \n",
              "1  Boston University     Lyft  ...             0.1396  1543161600   \n",
              "2  Boston University     Uber  ...             0.1396  1543161600   \n",
              "3   Theatre District     Uber  ...             0.1396  1543161600   \n",
              "4          North End     Uber  ...             0.1396  1543161600   \n",
              "\n",
              "   temperatureMin  temperatureMinTime  temperatureMax  temperatureMaxTime  \\\n",
              "0           40.61          1543122000           46.15          1543154400   \n",
              "1           40.61          1543122000           46.15          1543154400   \n",
              "2           40.61          1543122000           46.15          1543154400   \n",
              "3           40.61          1543122000           46.15          1543154400   \n",
              "4           40.61          1543122000           46.15          1543154400   \n",
              "\n",
              "   apparentTemperatureMin  apparentTemperatureMinTime  apparentTemperatureMax  \\\n",
              "0                   38.23                  1543136400                   43.17   \n",
              "1                   38.23                  1543136400                   43.17   \n",
              "2                   38.23                  1543136400                   43.17   \n",
              "3                   38.23                  1543136400                   43.17   \n",
              "4                   38.23                  1543136400                   43.17   \n",
              "\n",
              "  apparentTemperatureMaxTime  \n",
              "0                 1543186800  \n",
              "1                 1543186800  \n",
              "2                 1543186800  \n",
              "3                 1543186800  \n",
              "4                 1543186800  \n",
              "\n",
              "[5 rows x 57 columns]"
            ]
          },
          "execution_count": 24,
          "metadata": {},
          "output_type": "execute_result"
        }
      ],
      "source": [
        "df.head()"
      ]
    },
    {
      "cell_type": "markdown",
      "metadata": {
        "id": "hZFfqqkUw2lx"
      },
      "source": [
        "**Dataset Preprocessing**"
      ]
    },
    {
      "cell_type": "code",
      "execution_count": null,
      "metadata": {
        "id": "6wp-bUU22jck"
      },
      "outputs": [],
      "source": [
        "# Implement your work below, feel free to open up new cells."
      ]
    },
    {
      "cell_type": "code",
      "execution_count": null,
      "metadata": {
        "id": "jnYTXxCrRUAw"
      },
      "outputs": [],
      "source": [
        "# set target as price\n",
        "y = df['price']\n",
        "# set X as everything else\n",
        "X = df.drop(columns=['price'])"
      ]
    },
    {
      "cell_type": "code",
      "execution_count": null,
      "metadata": {
        "id": "iJcaexV3RJz_"
      },
      "outputs": [],
      "source": [
        "# train test split\n",
        "from sklearn.model_selection import train_test_split\n",
        "X_train, X_test, y_train, y_test = train_test_split(X, y, test_size=0.2, random_state=42)"
      ]
    },
    {
      "cell_type": "code",
      "execution_count": null,
      "metadata": {
        "id": "ypRg6DxNRcfK"
      },
      "outputs": [],
      "source": [
        "# unique answers for cab_type\n",
        "X_train['cab_type'].unique()\n",
        "\n",
        "# one hot encode cab_type for uber and lyft\n",
        "X_train = pd.get_dummies(X_train, columns=['cab_type'])\n",
        "X_test = pd.get_dummies(X_test, columns=['cab_type'])"
      ]
    },
    {
      "cell_type": "code",
      "execution_count": null,
      "metadata": {
        "id": "c4KbOzKpeD0r"
      },
      "outputs": [],
      "source": [
        "# since we already have hour, day, month:\n",
        "X_train = X_train.drop(columns=['id', 'timestamp', 'datetime'])\n",
        "X_test = X_test.drop(columns=['id', 'timestamp', 'datetime'])"
      ]
    },
    {
      "cell_type": "code",
      "execution_count": null,
      "metadata": {
        "id": "S9DUi0YCeHre"
      },
      "outputs": [],
      "source": [
        "# encode the other categorical variables\n",
        "cat_cols = ['source', 'destination', 'product_id', 'name', 'timezone',\n",
        "            'short_summary', 'long_summary', 'icon']\n",
        "X_train = pd.get_dummies(X_train, columns=cat_cols, drop_first=True)\n",
        "X_test = pd.get_dummies(X_test, columns=cat_cols, drop_first=True)"
      ]
    },
    {
      "cell_type": "code",
      "execution_count": null,
      "metadata": {
        "id": "V23KIBJ3eNwA"
      },
      "outputs": [],
      "source": [
        "X_train, X_test = X_train.align(X_test, join='left', axis=1, fill_value=0)"
      ]
    },
    {
      "cell_type": "code",
      "execution_count": null,
      "metadata": {
        "id": "WD2lVpJgeVEk"
      },
      "outputs": [],
      "source": [
        "# for feature selection we decided to drop those that had very weak correlation with price or were reduntant with others\n",
        "# from sklearn.feature_selection import mutual_info_regression\n",
        "\n",
        "# num_cols = X_train.select_dtypes(include=np.number).columns\n",
        "# mi = mutual_info_regression(X_train[num_cols], y_train)\n",
        "# mi = pd.Series(mi, index=num_cols).sort_values(ascending=False)\n",
        "# top_features = mi.head(20).index.tolist()\n",
        "# print(top_features)  # top features\n",
        "\n",
        "# this did not work"
      ]
    },
    {
      "cell_type": "code",
      "execution_count": null,
      "metadata": {
        "colab": {
          "base_uri": "https://localhost:8080/"
        },
        "id": "MRnIki7Jg5Ds",
        "outputId": "43f4b307-f044-452e-d011-de6464530d16"
      },
      "outputs": [
        {
          "name": "stderr",
          "output_type": "stream",
          "text": [
            "/usr/local/lib/python3.12/dist-packages/scipy/_lib/_util.py:1233: LinAlgWarning: Ill-conditioned matrix (rcond=4.02999e-18): result may not be accurate.\n",
            "  return f(*arrays, *other_args, **kwargs)\n",
            "/usr/local/lib/python3.12/dist-packages/scipy/_lib/_util.py:1233: LinAlgWarning: Ill-conditioned matrix (rcond=4.39432e-18): result may not be accurate.\n",
            "  return f(*arrays, *other_args, **kwargs)\n",
            "/usr/local/lib/python3.12/dist-packages/scipy/_lib/_util.py:1233: LinAlgWarning: Ill-conditioned matrix (rcond=4.83151e-18): result may not be accurate.\n",
            "  return f(*arrays, *other_args, **kwargs)\n",
            "/usr/local/lib/python3.12/dist-packages/scipy/_lib/_util.py:1233: LinAlgWarning: Ill-conditioned matrix (rcond=5.42782e-18): result may not be accurate.\n",
            "  return f(*arrays, *other_args, **kwargs)\n",
            "/usr/local/lib/python3.12/dist-packages/scipy/_lib/_util.py:1233: LinAlgWarning: Ill-conditioned matrix (rcond=5.42776e-18): result may not be accurate.\n",
            "  return f(*arrays, *other_args, **kwargs)\n",
            "/usr/local/lib/python3.12/dist-packages/scipy/_lib/_util.py:1233: LinAlgWarning: Ill-conditioned matrix (rcond=6.10477e-18): result may not be accurate.\n",
            "  return f(*arrays, *other_args, **kwargs)\n",
            "/usr/local/lib/python3.12/dist-packages/scipy/_lib/_util.py:1233: LinAlgWarning: Ill-conditioned matrix (rcond=6.96804e-18): result may not be accurate.\n",
            "  return f(*arrays, *other_args, **kwargs)\n",
            "/usr/local/lib/python3.12/dist-packages/scipy/_lib/_util.py:1233: LinAlgWarning: Ill-conditioned matrix (rcond=8.13281e-18): result may not be accurate.\n",
            "  return f(*arrays, *other_args, **kwargs)\n",
            "/usr/local/lib/python3.12/dist-packages/scipy/_lib/_util.py:1233: LinAlgWarning: Ill-conditioned matrix (rcond=9.78197e-18): result may not be accurate.\n",
            "  return f(*arrays, *other_args, **kwargs)\n",
            "/usr/local/lib/python3.12/dist-packages/scipy/_lib/_util.py:1233: LinAlgWarning: Ill-conditioned matrix (rcond=1.22356e-17): result may not be accurate.\n",
            "  return f(*arrays, *other_args, **kwargs)\n",
            "/usr/local/lib/python3.12/dist-packages/scipy/_lib/_util.py:1233: LinAlgWarning: Ill-conditioned matrix (rcond=1.63886e-17): result may not be accurate.\n",
            "  return f(*arrays, *other_args, **kwargs)\n",
            "/usr/local/lib/python3.12/dist-packages/scipy/_lib/_util.py:1233: LinAlgWarning: Ill-conditioned matrix (rcond=2.45839e-17): result may not be accurate.\n",
            "  return f(*arrays, *other_args, **kwargs)\n",
            "/usr/local/lib/python3.12/dist-packages/scipy/_lib/_util.py:1233: LinAlgWarning: Ill-conditioned matrix (rcond=2.45839e-17): result may not be accurate.\n",
            "  return f(*arrays, *other_args, **kwargs)\n",
            "/usr/local/lib/python3.12/dist-packages/scipy/_lib/_util.py:1233: LinAlgWarning: Ill-conditioned matrix (rcond=2.45839e-17): result may not be accurate.\n",
            "  return f(*arrays, *other_args, **kwargs)\n",
            "/usr/local/lib/python3.12/dist-packages/scipy/_lib/_util.py:1233: LinAlgWarning: Ill-conditioned matrix (rcond=2.4584e-17): result may not be accurate.\n",
            "  return f(*arrays, *other_args, **kwargs)\n",
            "/usr/local/lib/python3.12/dist-packages/scipy/_lib/_util.py:1233: LinAlgWarning: Ill-conditioned matrix (rcond=2.4584e-17): result may not be accurate.\n",
            "  return f(*arrays, *other_args, **kwargs)\n",
            "/usr/local/lib/python3.12/dist-packages/scipy/_lib/_util.py:1233: LinAlgWarning: Ill-conditioned matrix (rcond=4.9221e-17): result may not be accurate.\n",
            "  return f(*arrays, *other_args, **kwargs)\n"
          ]
        },
        {
          "name": "stdout",
          "output_type": "stream",
          "text": [
            "Top 30 features selected by RFE:\n",
            "['distance', 'surge_multiplier', 'latitude', 'cab_type_Lyft', 'cab_type_Uber', 'source_Financial District', 'source_Haymarket Square', 'source_North End', 'source_South Station', 'source_Theatre District', 'destination_Beacon Hill', 'product_id_6c84fd89-3f11-4782-9b50-97c468b19529', 'product_id_6d318bcc-22a3-4af6-bddd-b409bfce1546', 'product_id_997acbb5-e102-41e1-b155-9df7de0a73f2', 'product_id_9a0e7b09-b92b-4c41-9779-2ad22b4d779d', 'product_id_lyft', 'product_id_lyft_line', 'product_id_lyft_lux', 'product_id_lyft_luxsuv', 'product_id_lyft_plus', 'name_Black SUV', 'name_Lux', 'name_Lux Black', 'name_Lux Black XL', 'name_Lyft', 'name_Lyft XL', 'name_Shared', 'name_UberPool', 'name_UberX', 'name_WAV']\n"
          ]
        }
      ],
      "source": [
        "# use Ridge as base estimator (regularized linear model)\n",
        "ridge = Ridge(alpha=1.0, random_state=42)\n",
        "\n",
        "# set up RFE to select 30 features\n",
        "selector = RFE(estimator=ridge, n_features_to_select=30, step=1)\n",
        "selector = selector.fit(X_train, y_train)\n",
        "\n",
        "# get selected feature names\n",
        "selected_features = X_train.columns[selector.support_]\n",
        "print(\"Top 30 features selected by RFE:\")\n",
        "print(selected_features.tolist())\n",
        "\n",
        "# filter train and test sets\n",
        "X_train_sel = X_train[selected_features]\n",
        "X_test_sel = X_test[selected_features]\n",
        "\n",
        "# scale the reduced feature sets\n",
        "from sklearn.preprocessing import StandardScaler\n",
        "scaler = StandardScaler()\n",
        "X_train_scaled = scaler.fit_transform(X_train_sel)\n",
        "X_test_scaled = scaler.transform(X_test_sel)\n"
      ]
    },
    {
      "cell_type": "markdown",
      "metadata": {
        "id": "4WH0hnKD2npU"
      },
      "source": [
        "**Train Ridge Regression Model**"
      ]
    },
    {
      "cell_type": "code",
      "execution_count": null,
      "metadata": {
        "colab": {
          "base_uri": "https://localhost:8080/"
        },
        "id": "uCeozjFvwvl2",
        "outputId": "3396817d-f523-4989-864b-576f2bfb7e4f"
      },
      "outputs": [
        {
          "name": "stdout",
          "output_type": "stream",
          "text": [
            "Best alpha: 3.1623\n",
            "Test R^2 : 0.9287\n",
            "Test RMSE: 6.1076\n",
            "Test MAE : 1.7459\n",
            "\n",
            "Top coefficients by |magnitude|:\n",
            "distance                                           3.240358\n",
            "name_Lux Black XL                                  2.073287\n",
            "product_id_lyft_luxsuv                             2.073287\n",
            "product_id_6d318bcc-22a3-4af6-bddd-b409bfce1546    2.063622\n",
            "name_Black SUV                                     2.063622\n",
            "surge_multiplier                                   1.758674\n",
            "name_UberX                                        -1.672480\n",
            "product_id_lyft_line                              -1.425972\n",
            "name_Shared                                       -1.425972\n",
            "product_id_6c84fd89-3f11-4782-9b50-97c468b19529    1.357596\n",
            "dtype: float64\n"
          ]
        }
      ],
      "source": [
        "# Implement your work below, feel free to open up new cells.\n",
        "# define alpha grid\n",
        "alphas = np.logspace(-3, 3, 25)  # from 0.001 to 1000\n",
        "\n",
        "# cross-validated Ridge\n",
        "ridge_cv = RidgeCV(alphas=alphas, cv=5, scoring='r2')\n",
        "ridge_cv.fit(X_train_scaled, y_train)\n",
        "\n",
        "# evaluate on held-out test set\n",
        "y_pred = ridge_cv.predict(X_test_scaled)\n",
        "\n",
        "r2  = r2_score(y_test, y_pred)\n",
        "rmse = mean_squared_error(y_test, y_pred)\n",
        "mae  = mean_absolute_error(y_test, y_pred)\n",
        "\n",
        "print(f\"Best alpha: {ridge_cv.alpha_:.4f}\")\n",
        "print(f\"Test R^2 : {r2:.4f}\")\n",
        "print(f\"Test RMSE: {rmse:.4f}\")\n",
        "print(f\"Test MAE : {mae:.4f}\")\n",
        "\n",
        "# inspect coefficients for interpretation\n",
        "coef_series = pd.Series(ridge_cv.coef_, index=selected_features).sort_values(key=np.abs, ascending=False)\n",
        "print(\"\\nTop coefficients by |magnitude|:\")\n",
        "print(coef_series.head(10))"
      ]
    },
    {
      "cell_type": "markdown",
      "metadata": {
        "id": "_q4zHDEQY1LC"
      },
      "source": [
        "**Ridge Regression Rationale**\n",
        "\n",
        "I used RidgeCV with a log-spaced grid of α values ranging from 0.001 to 1000. This range covers both weak and strong regularization, allowing the model to balance bias and variance. Cross-validation (5-fold) was used to select the α that maximizes R², which is standard practice for linear models with correlated features."
      ]
    },
    {
      "cell_type": "markdown",
      "metadata": {
        "id": "rBi8cRHY2yej"
      },
      "source": [
        "**Train Multi-Layer Perceptron Model**"
      ]
    },
    {
      "cell_type": "code",
      "execution_count": null,
      "metadata": {
        "id": "u2XHWg1l2081"
      },
      "outputs": [],
      "source": [
        "# Implement your work below, feel free to open up new cells.\n",
        "from sklearn.neural_network import MLPRegressor\n",
        "from sklearn.model_selection import GridSearchCV\n",
        "from sklearn.metrics import r2_score, mean_squared_error, mean_absolute_error\n",
        "import numpy as np"
      ]
    },
    {
      "cell_type": "code",
      "execution_count": null,
      "metadata": {
        "colab": {
          "background_save": true
        },
        "id": "CRs2o7AdiS8A",
        "outputId": "a1a496c5-71c5-47ad-ffb0-9cd84e07fdd4"
      },
      "outputs": [
        {
          "name": "stdout",
          "output_type": "stream",
          "text": [
            "Best params: {'alpha': 0.01, 'batch_size': 256, 'hidden_layer_sizes': (128,), 'learning_rate_init': 0.001}\n",
            "Test R^2 : 0.9450\n",
            "Test RMSE: 4.7632\n",
            "Test MAE : 1.5584\n"
          ]
        }
      ],
      "source": [
        "mlp = MLPRegressor(\n",
        "    activation=\"relu\",\n",
        "    solver=\"adam\",\n",
        "    max_iter=1000,\n",
        "    early_stopping=True,          # internal 15% validation split by default\n",
        "    validation_fraction=0.15,\n",
        "    n_iter_no_change=30,\n",
        "    random_state=42\n",
        ")\n",
        "\n",
        "param_grid = {\n",
        "    \"hidden_layer_sizes\": [(64,), (128,), (64,32), (128,64)],\n",
        "    \"alpha\": [1e-5, 1e-4, 1e-3, 1e-2],          # L2 weight decay\n",
        "    \"learning_rate_init\": [1e-3, 3e-3, 1e-4],\n",
        "    \"batch_size\": [128, 256, 512]\n",
        "}\n",
        "\n",
        "mlp_gs = GridSearchCV(\n",
        "    estimator=mlp,\n",
        "    param_grid=param_grid,\n",
        "    scoring=\"r2\",\n",
        "    cv=3,                      # 3-fold CV over the training data\n",
        "    n_jobs=-1,\n",
        "    verbose=0\n",
        ")\n",
        "\n",
        "mlp_gs.fit(X_train_scaled, y_train)\n",
        "\n",
        "best_mlp = mlp_gs.best_estimator_\n",
        "y_pred_mlp = best_mlp.predict(X_test_scaled)\n",
        "\n",
        "r2  = r2_score(y_test, y_pred_mlp)\n",
        "rmse = mean_squared_error(y_test, y_pred_mlp)\n",
        "mae  = mean_absolute_error(y_test, y_pred_mlp)\n",
        "\n",
        "print(\"Best params:\", mlp_gs.best_params_)\n",
        "print(f\"Test R^2 : {r2:.4f}\")\n",
        "print(f\"Test RMSE: {rmse:.4f}\")\n",
        "print(f\"Test MAE : {mae:.4f}\")"
      ]
    },
    {
      "cell_type": "markdown",
      "metadata": {
        "id": "r3WIsTKoZFhY"
      },
      "source": [
        "**MLP rationale:**\n",
        "\n",
        "For the MLP, I limited the search to one or two hidden layers with 64–128 neurons per layer. This provides enough capacity to capture nonlinearities in ride pricing without overfitting. I also tuned L2 regularization (alpha), learning rate, and batch size, while using Adam optimizer with early stopping to ensure stable convergence and prevent overfitting."
      ]
    },
    {
      "cell_type": "markdown",
      "metadata": {
        "id": "Q15En0JV2-0l"
      },
      "source": [
        "**Predict and Evaluate on Test Set**"
      ]
    },
    {
      "cell_type": "code",
      "execution_count": null,
      "metadata": {
        "id": "kYIQwG7941MT"
      },
      "outputs": [],
      "source": [
        "# Only use this code block if you are using Google Colab.\n",
        "# If you are using Jupyter Notebook locally, please ignore this code block. You can directly upload the file to your Jupyter Notebook file systems.\n",
        "from google.colab import files\n",
        "\n",
        "## It will prompt you to select a local file. Click on “Choose Files” then select and upload the file.\n",
        "## Wait for the file to be 100% uploaded. You should see the name of the file once Colab has uploaded it.\n",
        "uploaded = files.upload()"
      ]
    },
    {
      "cell_type": "code",
      "execution_count": null,
      "metadata": {
        "colab": {
          "background_save": true
        },
        "id": "o-xnoKMu3DR2",
        "outputId": "934d2877-872d-429d-eb78-6d867ef127f1"
      },
      "outputs": [
        {
          "name": "stdout",
          "output_type": "stream",
          "text": [
            "Ridge Regression Test Set Evaluation:\n",
            "\n",
            "Test Set Evaluation:\n",
            "==================================================\n",
            "MSE:   6.3270\n",
            "MAE:   1.7503\n",
            "R²:    0.9269\n",
            "MLP Test Set Evaluation:\n",
            "\n",
            "Test Set Evaluation:\n",
            "==================================================\n",
            "MSE:   4.7632\n",
            "MAE:   1.5584\n",
            "R²:    0.9450\n"
          ]
        }
      ],
      "source": [
        "df_test = pd.read_csv('rideshare_test.csv')\n",
        "y_test = df_test['price']\n",
        "import pandas as pd\n",
        "import numpy as np\n",
        "from sklearn.metrics import mean_squared_error, mean_absolute_error, r2_score\n",
        "# Data preprocessing\n",
        "### START CODE ###\n",
        "train_columns = X_train.columns\n",
        "\n",
        "X_test_raw = df_test.drop(columns=['price', 'id', 'timestamp', 'datetime'], errors='ignore')\n",
        "\n",
        "cat_cols = ['cab_type', 'source', 'destination', 'product_id', 'name',\n",
        "            'timezone', 'short_summary', 'long_summary', 'icon']\n",
        "X_test_dum = pd.get_dummies(X_test_raw, columns=cat_cols, drop_first=True)\n",
        "# align dummy matrix to training's dummy columns\n",
        "X_test_dum = X_test_dum.reindex(columns=train_columns, fill_value=0)\n",
        "\n",
        "# select the exact same 30 features found by RFE on training\n",
        "X_test_sel = X_test_dum[selected_features].copy()\n",
        "\n",
        "# scale with the training scaler\n",
        "X_test_scaled = scaler.transform(X_test_sel)\n",
        "\n",
        "### END CODE ###\n",
        "\n",
        "# Model Prediction\n",
        "### START CODE ###\n",
        "y_test_ridge_pred = ridge_cv.predict(X_test_scaled)\n",
        "\n",
        "y_test_mlp_pred   = best_mlp.predict(X_test_scaled)\n",
        "### END CODE ###\n",
        "\n",
        "def evaluate_test_predictions(y_test_pred, y_test_true):\n",
        "    y_pred = np.array(y_test_pred)\n",
        "    y_true = np.array(y_test_true)\n",
        "\n",
        "    if y_pred.shape != y_true.shape:\n",
        "        raise ValueError(f\"Shape mismatch: predictions {y_pred.shape} vs true values {y_true.shape}\")\n",
        "\n",
        "    mse = mean_squared_error(y_true, y_pred)\n",
        "    mae = mean_absolute_error(y_true, y_pred)\n",
        "    r2 = r2_score(y_true, y_pred)\n",
        "\n",
        "    print(f\"\\nTest Set Evaluation:\")\n",
        "    print(\"=\" * 50)\n",
        "    print(f\"MSE:   {mse:.4f}\")\n",
        "    print(f\"MAE:   {mae:.4f}\")\n",
        "    print(f\"R²:    {r2:.4f}\")\n",
        "\n",
        "\n",
        "print(\"Ridge Regression Test Set Evaluation:\")\n",
        "evaluate_test_predictions(y_test_ridge_pred, y_test)\n",
        "\n",
        "print(\"MLP Test Set Evaluation:\")\n",
        "evaluate_test_predictions(y_test_mlp_pred, y_test)"
      ]
    },
    {
      "cell_type": "code",
      "source": [
        "# download notebook code and output as pdf\n",
        "!jupyter nbconvert --to pdf assignment3.ipynb"
      ],
      "metadata": {
        "colab": {
          "base_uri": "https://localhost:8080/"
        },
        "id": "4IA6YNNkcpNW",
        "outputId": "d5f5e402-44dc-492b-b231-001694eafbaf"
      },
      "execution_count": null,
      "outputs": [
        {
          "output_type": "stream",
          "name": "stdout",
          "text": [
            "[NbConvertApp] WARNING | pattern 'assignment3.ipynb' matched no files\n",
            "This application is used to convert notebook files (*.ipynb)\n",
            "        to various other formats.\n",
            "\n",
            "        WARNING: THE COMMANDLINE INTERFACE MAY CHANGE IN FUTURE RELEASES.\n",
            "\n",
            "Options\n",
            "=======\n",
            "The options below are convenience aliases to configurable class-options,\n",
            "as listed in the \"Equivalent to\" description-line of the aliases.\n",
            "To see all configurable class-options for some <cmd>, use:\n",
            "    <cmd> --help-all\n",
            "\n",
            "--debug\n",
            "    set log level to logging.DEBUG (maximize logging output)\n",
            "    Equivalent to: [--Application.log_level=10]\n",
            "--show-config\n",
            "    Show the application's configuration (human-readable format)\n",
            "    Equivalent to: [--Application.show_config=True]\n",
            "--show-config-json\n",
            "    Show the application's configuration (json format)\n",
            "    Equivalent to: [--Application.show_config_json=True]\n",
            "--generate-config\n",
            "    generate default config file\n",
            "    Equivalent to: [--JupyterApp.generate_config=True]\n",
            "-y\n",
            "    Answer yes to any questions instead of prompting.\n",
            "    Equivalent to: [--JupyterApp.answer_yes=True]\n",
            "--execute\n",
            "    Execute the notebook prior to export.\n",
            "    Equivalent to: [--ExecutePreprocessor.enabled=True]\n",
            "--allow-errors\n",
            "    Continue notebook execution even if one of the cells throws an error and include the error message in the cell output (the default behaviour is to abort conversion). This flag is only relevant if '--execute' was specified, too.\n",
            "    Equivalent to: [--ExecutePreprocessor.allow_errors=True]\n",
            "--stdin\n",
            "    read a single notebook file from stdin. Write the resulting notebook with default basename 'notebook.*'\n",
            "    Equivalent to: [--NbConvertApp.from_stdin=True]\n",
            "--stdout\n",
            "    Write notebook output to stdout instead of files.\n",
            "    Equivalent to: [--NbConvertApp.writer_class=StdoutWriter]\n",
            "--inplace\n",
            "    Run nbconvert in place, overwriting the existing notebook (only\n",
            "            relevant when converting to notebook format)\n",
            "    Equivalent to: [--NbConvertApp.use_output_suffix=False --NbConvertApp.export_format=notebook --FilesWriter.build_directory=]\n",
            "--clear-output\n",
            "    Clear output of current file and save in place,\n",
            "            overwriting the existing notebook.\n",
            "    Equivalent to: [--NbConvertApp.use_output_suffix=False --NbConvertApp.export_format=notebook --FilesWriter.build_directory= --ClearOutputPreprocessor.enabled=True]\n",
            "--coalesce-streams\n",
            "    Coalesce consecutive stdout and stderr outputs into one stream (within each cell).\n",
            "    Equivalent to: [--NbConvertApp.use_output_suffix=False --NbConvertApp.export_format=notebook --FilesWriter.build_directory= --CoalesceStreamsPreprocessor.enabled=True]\n",
            "--no-prompt\n",
            "    Exclude input and output prompts from converted document.\n",
            "    Equivalent to: [--TemplateExporter.exclude_input_prompt=True --TemplateExporter.exclude_output_prompt=True]\n",
            "--no-input\n",
            "    Exclude input cells and output prompts from converted document.\n",
            "            This mode is ideal for generating code-free reports.\n",
            "    Equivalent to: [--TemplateExporter.exclude_output_prompt=True --TemplateExporter.exclude_input=True --TemplateExporter.exclude_input_prompt=True]\n",
            "--allow-chromium-download\n",
            "    Whether to allow downloading chromium if no suitable version is found on the system.\n",
            "    Equivalent to: [--WebPDFExporter.allow_chromium_download=True]\n",
            "--disable-chromium-sandbox\n",
            "    Disable chromium security sandbox when converting to PDF..\n",
            "    Equivalent to: [--WebPDFExporter.disable_sandbox=True]\n",
            "--show-input\n",
            "    Shows code input. This flag is only useful for dejavu users.\n",
            "    Equivalent to: [--TemplateExporter.exclude_input=False]\n",
            "--embed-images\n",
            "    Embed the images as base64 dataurls in the output. This flag is only useful for the HTML/WebPDF/Slides exports.\n",
            "    Equivalent to: [--HTMLExporter.embed_images=True]\n",
            "--sanitize-html\n",
            "    Whether the HTML in Markdown cells and cell outputs should be sanitized..\n",
            "    Equivalent to: [--HTMLExporter.sanitize_html=True]\n",
            "--log-level=<Enum>\n",
            "    Set the log level by value or name.\n",
            "    Choices: any of [0, 10, 20, 30, 40, 50, 'DEBUG', 'INFO', 'WARN', 'ERROR', 'CRITICAL']\n",
            "    Default: 30\n",
            "    Equivalent to: [--Application.log_level]\n",
            "--config=<Unicode>\n",
            "    Full path of a config file.\n",
            "    Default: ''\n",
            "    Equivalent to: [--JupyterApp.config_file]\n",
            "--to=<Unicode>\n",
            "    The export format to be used, either one of the built-in formats\n",
            "            ['asciidoc', 'custom', 'html', 'latex', 'markdown', 'notebook', 'pdf', 'python', 'qtpdf', 'qtpng', 'rst', 'script', 'slides', 'webpdf']\n",
            "            or a dotted object name that represents the import path for an\n",
            "            ``Exporter`` class\n",
            "    Default: ''\n",
            "    Equivalent to: [--NbConvertApp.export_format]\n",
            "--template=<Unicode>\n",
            "    Name of the template to use\n",
            "    Default: ''\n",
            "    Equivalent to: [--TemplateExporter.template_name]\n",
            "--template-file=<Unicode>\n",
            "    Name of the template file to use\n",
            "    Default: None\n",
            "    Equivalent to: [--TemplateExporter.template_file]\n",
            "--theme=<Unicode>\n",
            "    Template specific theme(e.g. the name of a JupyterLab CSS theme distributed\n",
            "    as prebuilt extension for the lab template)\n",
            "    Default: 'light'\n",
            "    Equivalent to: [--HTMLExporter.theme]\n",
            "--sanitize_html=<Bool>\n",
            "    Whether the HTML in Markdown cells and cell outputs should be sanitized.This\n",
            "    should be set to True by nbviewer or similar tools.\n",
            "    Default: False\n",
            "    Equivalent to: [--HTMLExporter.sanitize_html]\n",
            "--writer=<DottedObjectName>\n",
            "    Writer class used to write the\n",
            "                                        results of the conversion\n",
            "    Default: 'FilesWriter'\n",
            "    Equivalent to: [--NbConvertApp.writer_class]\n",
            "--post=<DottedOrNone>\n",
            "    PostProcessor class used to write the\n",
            "                                        results of the conversion\n",
            "    Default: ''\n",
            "    Equivalent to: [--NbConvertApp.postprocessor_class]\n",
            "--output=<Unicode>\n",
            "    Overwrite base name use for output files.\n",
            "                Supports pattern replacements '{notebook_name}'.\n",
            "    Default: '{notebook_name}'\n",
            "    Equivalent to: [--NbConvertApp.output_base]\n",
            "--output-dir=<Unicode>\n",
            "    Directory to write output(s) to. Defaults\n",
            "                                  to output to the directory of each notebook. To recover\n",
            "                                  previous default behaviour (outputting to the current\n",
            "                                  working directory) use . as the flag value.\n",
            "    Default: ''\n",
            "    Equivalent to: [--FilesWriter.build_directory]\n",
            "--reveal-prefix=<Unicode>\n",
            "    The URL prefix for reveal.js (version 3.x).\n",
            "            This defaults to the reveal CDN, but can be any url pointing to a copy\n",
            "            of reveal.js.\n",
            "            For speaker notes to work, this must be a relative path to a local\n",
            "            copy of reveal.js: e.g., \"reveal.js\".\n",
            "            If a relative path is given, it must be a subdirectory of the\n",
            "            current directory (from which the server is run).\n",
            "            See the usage documentation\n",
            "            (https://nbconvert.readthedocs.io/en/latest/usage.html#reveal-js-html-slideshow)\n",
            "            for more details.\n",
            "    Default: ''\n",
            "    Equivalent to: [--SlidesExporter.reveal_url_prefix]\n",
            "--nbformat=<Enum>\n",
            "    The nbformat version to write.\n",
            "            Use this to downgrade notebooks.\n",
            "    Choices: any of [1, 2, 3, 4]\n",
            "    Default: 4\n",
            "    Equivalent to: [--NotebookExporter.nbformat_version]\n",
            "\n",
            "Examples\n",
            "--------\n",
            "\n",
            "    The simplest way to use nbconvert is\n",
            "\n",
            "            > jupyter nbconvert mynotebook.ipynb --to html\n",
            "\n",
            "            Options include ['asciidoc', 'custom', 'html', 'latex', 'markdown', 'notebook', 'pdf', 'python', 'qtpdf', 'qtpng', 'rst', 'script', 'slides', 'webpdf'].\n",
            "\n",
            "            > jupyter nbconvert --to latex mynotebook.ipynb\n",
            "\n",
            "            Both HTML and LaTeX support multiple output templates. LaTeX includes\n",
            "            'base', 'article' and 'report'.  HTML includes 'basic', 'lab' and\n",
            "            'classic'. You can specify the flavor of the format used.\n",
            "\n",
            "            > jupyter nbconvert --to html --template lab mynotebook.ipynb\n",
            "\n",
            "            You can also pipe the output to stdout, rather than a file\n",
            "\n",
            "            > jupyter nbconvert mynotebook.ipynb --stdout\n",
            "\n",
            "            PDF is generated via latex\n",
            "\n",
            "            > jupyter nbconvert mynotebook.ipynb --to pdf\n",
            "\n",
            "            You can get (and serve) a Reveal.js-powered slideshow\n",
            "\n",
            "            > jupyter nbconvert myslides.ipynb --to slides --post serve\n",
            "\n",
            "            Multiple notebooks can be given at the command line in a couple of\n",
            "            different ways:\n",
            "\n",
            "            > jupyter nbconvert notebook*.ipynb\n",
            "            > jupyter nbconvert notebook1.ipynb notebook2.ipynb\n",
            "\n",
            "            or you can specify the notebooks list in a config file, containing::\n",
            "\n",
            "                c.NbConvertApp.notebooks = [\"my_notebook.ipynb\"]\n",
            "\n",
            "            > jupyter nbconvert --config mycfg.py\n",
            "\n",
            "To see all available configurables, use `--help-all`.\n",
            "\n"
          ]
        }
      ]
    }
  ],
  "metadata": {
    "colab": {
      "provenance": [],
      "include_colab_link": true
    },
    "kernelspec": {
      "display_name": "Python 3",
      "name": "python3"
    },
    "language_info": {
      "name": "python"
    }
  },
  "nbformat": 4,
  "nbformat_minor": 0
}